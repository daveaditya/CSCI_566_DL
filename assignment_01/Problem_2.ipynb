{
 "cells": [
  {
   "cell_type": "markdown",
   "metadata": {},
   "source": [
    "# Problem 2: Incorporating CNNs\n",
    "\n",
    "* Learning Objective: In this problem, you will learn how to deeply understand how Convolutional Neural Networks work by implementing one.\n",
    "* Provided Code: We provide the skeletons of classes you need to complete. Forward checking and gradient checkings are provided for verifying your implementation as well.\n",
    "* TODOs: you will implement a Convolutional Layer and a MaxPooling Layer to improve on your classification results in part 1."
   ]
  },
  {
   "cell_type": "code",
   "execution_count": 1,
   "metadata": {},
   "outputs": [],
   "source": [
    "from lib.mlp.fully_conn import *\n",
    "from lib.mlp.layer_utils import *\n",
    "from lib.mlp.datasets import *\n",
    "from lib.mlp.train import *\n",
    "from lib.cnn.layer_utils import *\n",
    "from lib.cnn.cnn_models import *\n",
    "from lib.grad_check import *\n",
    "from lib.optim import *\n",
    "import numpy as np\n",
    "import matplotlib.pyplot as plt\n",
    "\n",
    "%matplotlib inline\n",
    "plt.rcParams['figure.figsize'] = (10.0, 8.0) # set default size of plots\n",
    "plt.rcParams['image.interpolation'] = 'nearest'\n",
    "plt.rcParams['image.cmap'] = 'gray'\n",
    "\n",
    "# for auto-reloading external modules\n",
    "# see http://stackoverflow.com/questions/1907993/autoreload-of-modules-in-ipython\n",
    "%load_ext autoreload\n",
    "%autoreload 2"
   ]
  },
  {
   "cell_type": "markdown",
   "metadata": {},
   "source": [
    "## Loading the data (SVHN)\n",
    "Run the following code block to download SVHN dataset and load in the properly splitted SVHN data. The script `get_datasets.sh` use `wget` to download the SVHN dataset. If you have a trouble with executing `get_datasets.sh`, you can manually download the dataset and extract files."
   ]
  },
  {
   "cell_type": "code",
   "execution_count": 2,
   "metadata": {},
   "outputs": [
    {
     "name": "stdout",
     "output_type": "stream",
     "text": [
      "--2022-02-20 18:53:53--  http://ufldl.stanford.edu/housenumbers/train_32x32.mat\n",
      "Resolving ufldl.stanford.edu (ufldl.stanford.edu)... 171.64.68.10\n",
      "Connecting to ufldl.stanford.edu (ufldl.stanford.edu)|171.64.68.10|:80... connected.\n",
      "HTTP request sent, awaiting response... 200 OK\n",
      "Length: 182040794 (174M) [text/plain]\n",
      "Saving to: ‘data/train_32x32.mat’\n",
      "\n",
      "train_32x32.mat     100%[===================>] 173.61M   657KB/s    in 5m 5s   \n",
      "\n",
      "2022-02-20 18:58:58 (583 KB/s) - ‘data/train_32x32.mat’ saved [182040794/182040794]\n",
      "\n",
      "--2022-02-20 18:58:58--  http://ufldl.stanford.edu/housenumbers/test_32x32.mat\n",
      "Resolving ufldl.stanford.edu (ufldl.stanford.edu)... 171.64.68.10\n",
      "Connecting to ufldl.stanford.edu (ufldl.stanford.edu)|171.64.68.10|:80... connected.\n",
      "HTTP request sent, awaiting response... 200 OK\n",
      "Length: 64275384 (61M) [text/plain]\n",
      "Saving to: ‘data/test_32x32.mat’\n",
      "\n",
      "test_32x32.mat      100%[===================>]  61.30M   591KB/s    in 1m 51s  \n",
      "\n",
      "2022-02-20 19:00:49 (567 KB/s) - ‘data/test_32x32.mat’ saved [64275384/64275384]\n",
      "\n"
     ]
    }
   ],
   "source": [
    "!./get_datasets.sh\n",
    "# !get_datasets.sh for windows users"
   ]
  },
  {
   "cell_type": "code",
   "execution_count": 2,
   "metadata": {},
   "outputs": [
    {
     "name": "stdout",
     "output_type": "stream",
     "text": [
      "Name: data_train Shape: (70000, 32, 32, 3)\n",
      "Name: labels_train Shape: (70000,)\n",
      "Name: data_val Shape: (3257, 32, 32, 3)\n",
      "Name: labels_val Shape: (3257,)\n",
      "Name: data_test Shape: (26032, 32, 32, 3)\n",
      "Name: labels_test Shape: (26032,)\n"
     ]
    }
   ],
   "source": [
    "data = SVHN_data()\n",
    "for k, v in data.items():\n",
    "    print (\"Name: {} Shape: {}\".format(k, v.shape))"
   ]
  },
  {
   "cell_type": "markdown",
   "metadata": {},
   "source": [
    "## Convolutional Neural Networks\n",
    "\n",
    "We will use convolutional neural networks to try to improve on the results from Problem 1. Convolutional layers make the assumption that local pixels are more important for prediction than far-away pixels. This allows us to form networks that are robust to small changes in positioning in images.\n",
    "\n",
    "### Convolutional Layer Output size calculation [2pts]\n",
    "\n",
    "As you have learned, two important parameters of a convolutional layer are its stride and padding. To warm up, we will need to calculate the output size of a convolutional layer given its stride and padding. To do this, open the `lib/cnn/layer_utils.py` file and fill out the TODO section in the `get_output_size` function in the ConvLayer2D class. \n",
    "\n",
    "Implement your function so that it returns the correct size as indicated by the block below."
   ]
  },
  {
   "cell_type": "code",
   "execution_count": 3,
   "metadata": {},
   "outputs": [
    {
     "name": "stdout",
     "output_type": "stream",
     "text": [
      "Received [32, 16, 16, 16] and expected [32, 16, 16, 16]\n"
     ]
    }
   ],
   "source": [
    "%reload_ext autoreload\n",
    "\n",
    "input_image = np.zeros([32, 28, 28, 3]) # a stack of 32 28 by 28 rgb images\n",
    "\n",
    "in_channels = input_image.shape[-1] #must agree with the last dimension of the input image\n",
    "k_size = 4 \n",
    "n_filt = 16\n",
    "\n",
    "conv_layer = ConvLayer2D(in_channels, k_size, n_filt, stride=2, padding=3)\n",
    "output_size = conv_layer.get_output_size(input_image.shape) \n",
    "\n",
    "print(\"Received {} and expected [32, 16, 16, 16]\".format(output_size))"
   ]
  },
  {
   "cell_type": "markdown",
   "metadata": {},
   "source": [
    "### Convolutional Layer Forward Pass [5pts]\n",
    "\n",
    "Now, we will implement the forward pass of a convolutional layer. Fill in the TODO block in the `forward` function of the ConvLayer2D class."
   ]
  },
  {
   "cell_type": "code",
   "execution_count": 113,
   "metadata": {},
   "outputs": [
    {
     "name": "stdout",
     "output_type": "stream",
     "text": [
      "Received output shape: (1, 4, 4, 2), Expected output shape: (1, 4, 4, 2)\n",
      "Difference:  5.110565335399418e-08\n"
     ]
    }
   ],
   "source": [
    "%reload_ext autoreload\n",
    "\n",
    "# Test the convolutional forward function\n",
    "input_image = np.linspace(-0.1, 0.4, num=1*8*8*1).reshape([1, 8, 8, 1]) # a single 8 by 8 grayscale image\n",
    "in_channels, k_size, n_filt = 1, 5, 2\n",
    "\n",
    "weight_size = k_size*k_size*in_channels*n_filt\n",
    "bias_size = n_filt\n",
    "\n",
    "single_conv = ConvLayer2D(in_channels, k_size, n_filt, stride=1, padding=0, name=\"conv_test\")\n",
    "\n",
    "w = np.linspace(-0.2, 0.2, num=weight_size).reshape(k_size, k_size, in_channels, n_filt)\n",
    "b = np.linspace(-0.3, 0.3, num=bias_size)\n",
    "\n",
    "single_conv.params[single_conv.w_name] = w\n",
    "single_conv.params[single_conv.b_name] = b\n",
    "\n",
    "out = single_conv.forward(input_image)\n",
    "\n",
    "print(\"Received output shape: {}, Expected output shape: (1, 4, 4, 2)\".format(out.shape))\n",
    "\n",
    "correct_out = np.array([[\n",
    "   [[-0.03874312, 0.57000324],\n",
    "   [-0.03955296, 0.57081309],\n",
    "   [-0.04036281, 0.57162293],\n",
    "   [-0.04117266, 0.57243278]],\n",
    "\n",
    "  [[-0.0452219, 0.57648202],\n",
    "   [-0.04603175, 0.57729187],\n",
    "   [-0.04684159, 0.57810172],\n",
    "   [-0.04765144, 0.57891156]],\n",
    "\n",
    "  [[-0.05170068, 0.5829608 ],\n",
    "   [-0.05251053, 0.58377065],\n",
    "   [-0.05332038, 0.5845805 ],\n",
    "   [-0.05413022, 0.58539035]],\n",
    "\n",
    "  [[-0.05817946, 0.58943959],\n",
    "   [-0.05898931, 0.59024943],\n",
    "   [-0.05979916, 0.59105928],\n",
    "   [-0.06060901, 0.59186913]]]])\n",
    "\n",
    "\n",
    "# Compare your output with the above pre-computed ones. \n",
    "# The difference should not be larger than 1e-8\n",
    "print (\"Difference: \", rel_error(out, correct_out))"
   ]
  },
  {
   "cell_type": "markdown",
   "metadata": {},
   "source": [
    "### Conv Layer Backward [5pts]\n",
    "\n",
    "Now complete the backward pass of a convolutional layer. Fill in the TODO block in the `backward` function of the ConvLayer2D class. Check you results with this code and expect differences of less than 1e-6."
   ]
  },
  {
   "cell_type": "code",
   "execution_count": 115,
   "metadata": {},
   "outputs": [
    {
     "name": "stdout",
     "output_type": "stream",
     "text": [
      "dimg Error:  2.6294797003498437e-07\n",
      "dw Error:  1.5793360396074264e-08\n",
      "db Error:  3.029810082779965e-10\n",
      "dimg Shape:  (15, 8, 8, 3) (15, 8, 8, 3)\n"
     ]
    }
   ],
   "source": [
    "%reload_ext autoreload\n",
    "\n",
    "# Test the conv backward function\n",
    "img = np.random.randn(15, 8, 8, 3)\n",
    "w = np.random.randn(4, 4, 3, 12)\n",
    "b = np.random.randn(12)\n",
    "dout = np.random.randn(15, 4, 4, 12)\n",
    "\n",
    "single_conv = ConvLayer2D(input_channels=3, kernel_size=4, number_filters=12, stride=2, padding=1, name=\"conv_test\")\n",
    "single_conv.params[single_conv.w_name] = w\n",
    "single_conv.params[single_conv.b_name] = b\n",
    "\n",
    "dimg_num = eval_numerical_gradient_array(lambda x: single_conv.forward(img), img, dout)\n",
    "dw_num = eval_numerical_gradient_array(lambda w: single_conv.forward(img), w, dout)\n",
    "db_num = eval_numerical_gradient_array(lambda b: single_conv.forward(img), b, dout)\n",
    "\n",
    "out = single_conv.forward(img)\n",
    "\n",
    "dimg = single_conv.backward(dout)\n",
    "dw = single_conv.grads[single_conv.w_name]\n",
    "db = single_conv.grads[single_conv.b_name]\n",
    "\n",
    "# The error should be around 1e-8\n",
    "print(\"dimg Error: \", rel_error(dimg_num, dimg))\n",
    "# The errors should be around 1e-8\n",
    "print(\"dw Error: \", rel_error(dw_num, dw))\n",
    "print(\"db Error: \", rel_error(db_num, db))\n",
    "# The shapes should be same\n",
    "print(\"dimg Shape: \", dimg.shape, img.shape)"
   ]
  },
  {
   "cell_type": "markdown",
   "metadata": {},
   "source": [
    "## Max pooling Layer\n",
    "Now we will implement maxpooling layers, which can help to reduce the image size while preserving the overall structure of the image.\n",
    "\n",
    "### Forward Pass max pooling [5pts]\n",
    "Fill out the TODO block in the `forward` function of the MaxPoolingLayer class."
   ]
  },
  {
   "cell_type": "code",
   "execution_count": 121,
   "metadata": {},
   "outputs": [
    {
     "name": "stdout",
     "output_type": "stream",
     "text": [
      "Received output shape: (1, 3, 3, 1), Expected output shape: (1, 3, 3, 1)\n",
      "Difference:  1.8750000280978013e-08\n"
     ]
    }
   ],
   "source": [
    "# Test the convolutional forward function\n",
    "input_image = np.linspace(-0.1, 0.4, num=64).reshape([1, 8, 8, 1]) # a single 8 by 8 grayscale image\n",
    "\n",
    "maxpool= MaxPoolingLayer(pool_size=4, stride=2, name=\"maxpool_test\")\n",
    "out = maxpool.forward(input_image)\n",
    "\n",
    "print(\"Received output shape: {}, Expected output shape: (1, 3, 3, 1)\".format(out.shape))\n",
    "\n",
    "correct_out = np.array([[\n",
    "   [[0.11428571],\n",
    "   [0.13015873],\n",
    "   [0.14603175]],\n",
    "\n",
    "  [[0.24126984],\n",
    "   [0.25714286],\n",
    "   [0.27301587]],\n",
    "\n",
    "  [[0.36825397],\n",
    "   [0.38412698],\n",
    "   [0.4       ]]]])\n",
    "\n",
    "# Compare your output with the above pre-computed ones. \n",
    "# The difference should not be larger than 1e-8\n",
    "print (\"Difference: \", rel_error(out, correct_out))"
   ]
  },
  {
   "cell_type": "markdown",
   "metadata": {},
   "source": [
    "### Backward Pass Max pooling [5pts]\n",
    "Fill out the `backward` function in the MaxPoolingLayer class."
   ]
  },
  {
   "cell_type": "code",
   "execution_count": 122,
   "metadata": {},
   "outputs": [
    {
     "name": "stdout",
     "output_type": "stream",
     "text": [
      "dimg Error:  3.2772667075661996e-12\n",
      "dimg Shape:  (15, 8, 8, 3) (15, 8, 8, 3)\n"
     ]
    }
   ],
   "source": [
    "img = np.random.randn(15, 8, 8, 3)\n",
    "\n",
    "dout = np.random.randn(15, 3, 3, 3)\n",
    "\n",
    "maxpool= MaxPoolingLayer(pool_size=4, stride=2, name=\"maxpool_test\")\n",
    "\n",
    "dimg_num = eval_numerical_gradient_array(lambda x: maxpool.forward(img), img, dout)\n",
    "\n",
    "out = maxpool.forward(img)\n",
    "dimg = maxpool.backward(dout)\n",
    "\n",
    "# The error should be around 1e-8\n",
    "print(\"dimg Error: \", rel_error(dimg_num, dimg))\n",
    "# The shapes should be same\n",
    "print(\"dimg Shape: \", dimg.shape, img.shape)"
   ]
  },
  {
   "cell_type": "markdown",
   "metadata": {},
   "source": [
    "### Test a Small Fully Connected Network [3pts]\n",
    "Please find the `TestCNN` class in `lib/cnn/cnn_models.py`.\n",
    "Again you only need to complete few lines of code in the TODO block.\n",
    "Please design a Convolutional --> Maxpool --> flatten --> fc network where the shapes of parameters match the given shapes.\n",
    "Please insert the corresponding names you defined for each layer to param_name_w, and param_name_b respectively.\n",
    "Here you only modify the param_name part, the _w, and _b are automatically assigned during network setup."
   ]
  },
  {
   "cell_type": "code",
   "execution_count": 123,
   "metadata": {},
   "outputs": [
    {
     "name": "stdout",
     "output_type": "stream",
     "text": [
      "Testing initialization ... \n",
      "Passed!\n",
      "Testing test-time forward pass ... \n",
      "Passed!\n",
      "Testing the loss ...\n",
      "Passed!\n",
      "Testing the gradients (error should be no larger than 1e-6) ...\n",
      "conv_b relative error: 3.95e-09\n",
      "conv_w relative error: 9.10e-10\n",
      "fc_b relative error: 9.76e-11\n",
      "fc_w relative error: 3.89e-07\n"
     ]
    }
   ],
   "source": [
    "%reload_ext autoreload\n",
    "\n",
    "seed = 1234\n",
    "np.random.seed(seed=seed)\n",
    "\n",
    "model = TestCNN()\n",
    "loss_func = cross_entropy()\n",
    "\n",
    "B, H, W, iC = 4, 8, 8, 3 #batch, height, width, in_channels\n",
    "k = 3 #kernel size\n",
    "oC, Hi, O = 3, 27, 5 # out channels, Hidden Layer input, Output size\n",
    "std = 0.02\n",
    "x = np.random.randn(B,H,W,iC)\n",
    "y = np.random.randint(O, size=B)\n",
    "\n",
    "print (\"Testing initialization ... \")\n",
    "\n",
    "###################################################\n",
    "# TODO: param_name should be replaced accordingly  #\n",
    "###################################################\n",
    "w1_std = abs(model.net.get_params(\"conv_w\").std() - std)\n",
    "b1 = model.net.get_params(\"conv_b\").std()\n",
    "w2_std = abs(model.net.get_params(\"fc_w\").std() - std)\n",
    "b2 = model.net.get_params(\"fc_b\").std()\n",
    "###################################################\n",
    "#                END OF YOUR CODE                 #\n",
    "###################################################\n",
    "\n",
    "assert w1_std < std / 10, \"First layer weights do not seem right\"\n",
    "assert np.all(b1 == 0), \"First layer biases do not seem right\"\n",
    "assert w2_std < std / 10, \"Second layer weights do not seem right\"\n",
    "assert np.all(b2 == 0), \"Second layer biases do not seem right\"\n",
    "print (\"Passed!\")\n",
    "\n",
    "print (\"Testing test-time forward pass ... \")\n",
    "w1 = np.linspace(-0.7, 0.3, num=k*k*iC*oC).reshape(k,k,iC,oC)\n",
    "w2 = np.linspace(-0.2, 0.2, num=Hi*O).reshape(Hi, O)\n",
    "b1 = np.linspace(-0.6, 0.2, num=oC)\n",
    "b2 = np.linspace(-0.9, 0.1, num=O)\n",
    "\n",
    "###################################################\n",
    "# TODO: param_name should be replaced accordingly  #\n",
    "###################################################\n",
    "model.net.assign(\"conv_w\", w1)\n",
    "model.net.assign(\"conv_b\", b1)\n",
    "model.net.assign(\"fc_w\", w2)\n",
    "model.net.assign(\"fc_b\", b2)\n",
    "###################################################\n",
    "#                END OF YOUR CODE                 #\n",
    "###################################################\n",
    "\n",
    "feats = np.linspace(-5.5, 4.5, num=B*H*W*iC).reshape(B,H,W,iC)\n",
    "scores = model.forward(feats)\n",
    "correct_scores = np.asarray([[-13.85107294, -11.52845818,  -9.20584342,  -6.88322866,  -4.5606139 ],\n",
    " [-11.44514171, -10.21200524 , -8.97886878 , -7.74573231 , -6.51259584],\n",
    " [ -9.03921048,  -8.89555231 , -8.75189413 , -8.60823596,  -8.46457778],\n",
    " [ -6.63327925 , -7.57909937 , -8.52491949 , -9.4707396 , -10.41655972]])\n",
    "scores_diff = np.sum(np.abs(scores - correct_scores))\n",
    "assert scores_diff < 1e-6, \"Your implementation might be wrong!\"\n",
    "print (\"Passed!\")\n",
    "\n",
    "print (\"Testing the loss ...\",)\n",
    "y = np.asarray([0, 2, 1, 4])\n",
    "loss = loss_func.forward(scores, y)\n",
    "dLoss = loss_func.backward()\n",
    "correct_loss = 4.56046848799693\n",
    "assert abs(loss - correct_loss) < 1e-10, \"Your implementation might be wrong!\"\n",
    "print (\"Passed!\")\n",
    "\n",
    "print (\"Testing the gradients (error should be no larger than 1e-6) ...\")\n",
    "din = model.backward(dLoss)\n",
    "for layer in model.net.layers:\n",
    "    if not layer.params:\n",
    "        continue\n",
    "    for name in sorted(layer.grads):\n",
    "        f = lambda _: loss_func.forward(model.forward(feats), y)\n",
    "        grad_num = eval_numerical_gradient(f, layer.params[name], verbose=False)\n",
    "        print ('%s relative error: %.2e' % (name, rel_error(grad_num, layer.grads[name])))"
   ]
  },
  {
   "cell_type": "markdown",
   "metadata": {},
   "source": [
    "### Training the Network [25pts]\n",
    "In this section, we defined a `SmallConvolutionalNetwork` class for you to fill in the TODO block in `lib/cnn/cnn_models.py`.\n",
    "\n",
    "Here please design a network with at most two convolutions and two maxpooling layers (you may use less).\n",
    "You can adjust the parameters for any layer, and include layers other than those listed above that you have implemented.\n",
    "You are also free to select any optimizer you have implemented (with any learning rate).\n",
    "\n",
    "Try to find a combination that is able to achieve 88% validation accuracy."
   ]
  },
  {
   "cell_type": "code",
   "execution_count": 3,
   "metadata": {},
   "outputs": [],
   "source": [
    "# Arrange the data\n",
    "data_dict = {\n",
    "    \"data_train\": (data[\"data_train\"], data[\"labels_train\"]),\n",
    "    \"data_val\": (data[\"data_val\"], data[\"labels_val\"]),\n",
    "    \"data_test\": (data[\"data_test\"], data[\"labels_test\"])\n",
    "}"
   ]
  },
  {
   "cell_type": "code",
   "execution_count": 4,
   "metadata": {},
   "outputs": [
    {
     "name": "stdout",
     "output_type": "stream",
     "text": [
      "Data shape: (70000, 32, 32, 3)\n",
      "Flattened data input size: 3072\n",
      "Number of data classes: 10\n"
     ]
    }
   ],
   "source": [
    "print(\"Data shape:\", data_dict[\"data_train\"][0].shape)\n",
    "print(\"Flattened data input size:\", np.prod(data[\"data_train\"].shape[1:]))\n",
    "print(\"Number of data classes:\", max(data['labels_train']) + 1)"
   ]
  },
  {
   "cell_type": "code",
   "execution_count": 10,
   "metadata": {},
   "outputs": [
    {
     "name": "stdout",
     "output_type": "stream",
     "text": [
      "(Iteration 1 / 8736) loss: 2.3025736957897607\n",
      "(Iteration 101 / 8736) loss: 2.2591803444014857\n",
      "(Iteration 201 / 8736) loss: 2.205958347853379\n",
      "(Iteration 301 / 8736) loss: 1.696692227506987\n",
      "(Iteration 401 / 8736) loss: 1.585874639311335\n",
      "(Iteration 501 / 8736) loss: 1.1732460202422692\n",
      "(Epoch 1 / 16) Training Accuracy: 0.6985857142857143, Validation Accuracy: 0.6911268038071845\n",
      "(Iteration 601 / 8736) loss: 0.9067702846900861\n",
      "(Iteration 701 / 8736) loss: 0.8581504522006463\n",
      "(Iteration 801 / 8736) loss: 0.8141147996311852\n",
      "(Iteration 901 / 8736) loss: 0.7086537658894622\n",
      "(Iteration 1001 / 8736) loss: 0.6570129824709264\n",
      "(Epoch 2 / 16) Training Accuracy: 0.7880571428571429, Validation Accuracy: 0.7817009517961314\n",
      "(Iteration 1101 / 8736) loss: 0.7045922069347934\n",
      "(Iteration 1201 / 8736) loss: 0.6741389875514159\n",
      "(Iteration 1301 / 8736) loss: 0.8318776785027838\n",
      "(Iteration 1401 / 8736) loss: 0.6473599770112083\n",
      "(Iteration 1501 / 8736) loss: 0.6004213433716638\n",
      "(Iteration 1601 / 8736) loss: 0.7449792262861505\n",
      "(Epoch 3 / 16) Training Accuracy: 0.8079857142857143, Validation Accuracy: 0.8013509364445809\n",
      "(Iteration 1701 / 8736) loss: 0.751971183148553\n",
      "(Iteration 1801 / 8736) loss: 0.6156255371489677\n",
      "(Iteration 1901 / 8736) loss: 0.9059816703212304\n",
      "(Iteration 2001 / 8736) loss: 0.5304335094133626\n",
      "(Iteration 2101 / 8736) loss: 0.7175114891569875\n",
      "(Epoch 4 / 16) Training Accuracy: 0.8172285714285714, Validation Accuracy: 0.8087196806877495\n",
      "(Iteration 2201 / 8736) loss: 0.8410531598476951\n",
      "(Iteration 2301 / 8736) loss: 0.7585857692906276\n",
      "(Iteration 2401 / 8736) loss: 0.47014066515093267\n",
      "(Iteration 2501 / 8736) loss: 0.5988181223711321\n",
      "(Iteration 2601 / 8736) loss: 0.6788401867154363\n",
      "(Iteration 2701 / 8736) loss: 0.6207954511009204\n",
      "(Epoch 5 / 16) Training Accuracy: 0.8238285714285715, Validation Accuracy: 0.8114829597789377\n",
      "(Iteration 2801 / 8736) loss: 0.6002333214760249\n",
      "(Iteration 2901 / 8736) loss: 0.6091293238179888\n",
      "(Iteration 3001 / 8736) loss: 0.4068201242173936\n",
      "(Iteration 3101 / 8736) loss: 0.49572492395683615\n",
      "(Iteration 3201 / 8736) loss: 0.6918847188367822\n",
      "(Epoch 6 / 16) Training Accuracy: 0.8272857142857143, Validation Accuracy: 0.8151673319005219\n",
      "(Iteration 3301 / 8736) loss: 0.5532325241596414\n",
      "(Iteration 3401 / 8736) loss: 0.635359698032371\n",
      "(Iteration 3501 / 8736) loss: 0.6353531976662823\n",
      "(Iteration 3601 / 8736) loss: 0.6393259819620984\n",
      "(Iteration 3701 / 8736) loss: 0.5753410248775878\n",
      "(Iteration 3801 / 8736) loss: 0.6371156410274871\n",
      "(Epoch 7 / 16) Training Accuracy: 0.8285285714285714, Validation Accuracy: 0.8206938900828984\n",
      "(Iteration 3901 / 8736) loss: 0.5374879320063028\n",
      "(Iteration 4001 / 8736) loss: 0.5908884212648675\n",
      "(Iteration 4101 / 8736) loss: 0.422254274204206\n",
      "(Iteration 4201 / 8736) loss: 0.5096793619058617\n",
      "(Iteration 4301 / 8736) loss: 0.5587539888282044\n",
      "(Epoch 8 / 16) Training Accuracy: 0.8375, Validation Accuracy: 0.8271415412956709\n",
      "(Iteration 4401 / 8736) loss: 0.4968727650898371\n",
      "(Iteration 4501 / 8736) loss: 0.47184823736780757\n",
      "(Iteration 4601 / 8736) loss: 0.42854850569170233\n",
      "(Iteration 4701 / 8736) loss: 0.4626370296647558\n",
      "(Iteration 4801 / 8736) loss: 0.42469070002814885\n",
      "(Iteration 4901 / 8736) loss: 0.5455848065547951\n",
      "(Epoch 9 / 16) Training Accuracy: 0.8409857142857143, Validation Accuracy: 0.8256063862450107\n",
      "(Iteration 5001 / 8736) loss: 0.7899093624945172\n",
      "(Iteration 5101 / 8736) loss: 0.5502730511234887\n",
      "(Iteration 5201 / 8736) loss: 0.5958190731077371\n",
      "(Iteration 5301 / 8736) loss: 0.8316381022577392\n",
      "(Iteration 5401 / 8736) loss: 0.5574427005410697\n",
      "(Epoch 10 / 16) Training Accuracy: 0.8434142857142857, Validation Accuracy: 0.828062634326067\n",
      "Decaying learning rate of the optimizer to 0.0004995\n",
      "(Iteration 5501 / 8736) loss: 0.6606717023067376\n",
      "(Iteration 5601 / 8736) loss: 0.7727548567663055\n",
      "(Iteration 5701 / 8736) loss: 0.4211305318002012\n",
      "(Iteration 5801 / 8736) loss: 0.47555146604220033\n",
      "(Iteration 5901 / 8736) loss: 0.6883270901486119\n",
      "(Iteration 6001 / 8736) loss: 0.6948954857087859\n",
      "(Epoch 11 / 16) Training Accuracy: 0.8430571428571428, Validation Accuracy: 0.829290758366595\n",
      "(Iteration 6101 / 8736) loss: 0.39826275592302396\n",
      "(Iteration 6201 / 8736) loss: 0.40957773404898706\n",
      "(Iteration 6301 / 8736) loss: 0.44472449216358445\n",
      "(Iteration 6401 / 8736) loss: 0.526226869639065\n",
      "(Iteration 6501 / 8736) loss: 0.5583256197813617\n",
      "(Epoch 12 / 16) Training Accuracy: 0.8460714285714286, Validation Accuracy: 0.8338962235185754\n",
      "(Iteration 6601 / 8736) loss: 0.5051805034432353\n",
      "(Iteration 6701 / 8736) loss: 0.6085562374413177\n",
      "(Iteration 6801 / 8736) loss: 0.5237933084366818\n",
      "(Iteration 6901 / 8736) loss: 0.598182529623854\n",
      "(Iteration 7001 / 8736) loss: 0.44914766540014744\n",
      "(Epoch 13 / 16) Training Accuracy: 0.8454571428571429, Validation Accuracy: 0.8314399754375192\n",
      "(Iteration 7101 / 8736) loss: 0.4357485755565206\n",
      "(Iteration 7201 / 8736) loss: 0.429171839424588\n",
      "(Iteration 7301 / 8736) loss: 0.4060706781566854\n",
      "(Iteration 7401 / 8736) loss: 0.6180231202466824\n",
      "(Iteration 7501 / 8736) loss: 0.5082554995922834\n",
      "(Iteration 7601 / 8736) loss: 0.3170641554006881\n",
      "(Epoch 14 / 16) Training Accuracy: 0.8507857142857143, Validation Accuracy: 0.8348173165489714\n",
      "(Iteration 7701 / 8736) loss: 0.644127312925496\n",
      "(Iteration 7801 / 8736) loss: 0.47936058724260167\n",
      "(Iteration 7901 / 8736) loss: 0.5449422933782173\n",
      "(Iteration 8001 / 8736) loss: 0.4540320500257258\n",
      "(Iteration 8101 / 8736) loss: 0.6761736033068332\n",
      "(Epoch 15 / 16) Training Accuracy: 0.8532571428571428, Validation Accuracy: 0.8375805956401596\n",
      "(Iteration 8201 / 8736) loss: 0.4650179127314918\n",
      "(Iteration 8301 / 8736) loss: 0.43590194510800867\n",
      "(Iteration 8401 / 8736) loss: 0.46112058165194914\n",
      "(Iteration 8501 / 8736) loss: 0.487792454632618\n",
      "(Iteration 8601 / 8736) loss: 0.38261648168934437\n",
      "(Iteration 8701 / 8736) loss: 0.5380163441115201\n",
      "(Epoch 16 / 16) Training Accuracy: 0.854, Validation Accuracy: 0.8403438747313479\n"
     ]
    }
   ],
   "source": [
    "%reload_ext autoreload\n",
    "\n",
    "seed = 123\n",
    "np.random.seed(seed=seed)\n",
    "\n",
    "model = SmallConvolutionalNetwork()\n",
    "loss_f = cross_entropy()\n",
    "\n",
    "\n",
    "results = None\n",
    "#############################################################################\n",
    "# TODO: Use the train_net function you completed to train a network         #\n",
    "#############################################################################\n",
    "optimizer =  Adam(model.net, 5e-4)\n",
    "\n",
    "batch_size = 128\n",
    "epochs = 16\n",
    "lr_decay = .999\n",
    "lr_decay_every = 10\n",
    "\n",
    "#############################################################################\n",
    "#                             END OF YOUR CODE                              #\n",
    "#############################################################################\n",
    "results = train_net(data_dict, model, loss_f, optimizer, batch_size, epochs, \n",
    "                    lr_decay, lr_decay_every, show_every=100, verbose=True)\n",
    "opt_params, loss_hist, train_acc_hist, val_acc_hist = results"
   ]
  },
  {
   "cell_type": "code",
   "execution_count": 11,
   "metadata": {},
   "outputs": [],
   "source": [
    "import pickle\n",
    "with open(\"save.pkl\", \"wb\") as result:\n",
    "  result.write(pickle.dumps(results))"
   ]
  },
  {
   "cell_type": "code",
   "execution_count": 8,
   "metadata": {},
   "outputs": [
    {
     "data": {
      "text/plain": [
       "[{'a': 1, 'b': 2}, 2, 3]"
      ]
     },
     "execution_count": 8,
     "metadata": {},
     "output_type": "execute_result"
    }
   ],
   "source": [
    "# load model\n",
    "import pickle\n",
    "results_s = None\n",
    "with open(\"save.pkl\", \"rb\") as result:\n",
    "  results_s = pickle.load(result)\n",
    "results_s"
   ]
  },
  {
   "cell_type": "code",
   "execution_count": 17,
   "metadata": {},
   "outputs": [
    {
     "name": "stdout",
     "output_type": "stream",
     "text": [
      "Loading Params: conv1_w Shape: (5, 5, 3, 8)\n",
      "Loading Params: conv1_b Shape: (8,)\n",
      "Loading Params: conv2_w Shape: (6, 6, 8, 4)\n",
      "Loading Params: conv2_b Shape: (4,)\n",
      "Loading Params: fc1_w Shape: (2500, 10)\n",
      "Loading Params: fc1_b Shape: (10,)\n",
      "Loading Params: fc2_w Shape: (10, 10)\n",
      "Loading Params: fc2_b Shape: (10,)\n",
      "(Iteration 1 / 2730) loss: 0.5114457496456871\n",
      "(Iteration 101 / 2730) loss: 0.48602731272052563\n",
      "(Iteration 201 / 2730) loss: 0.32383455603011685\n"
     ]
    }
   ],
   "source": [
    "%reload_ext autoreload\n",
    "\n",
    "seed = 123\n",
    "np.random.seed(seed=seed)\n",
    "\n",
    "model = SmallConvolutionalNetwork()\n",
    "loss_f = cross_entropy()\n",
    "\n",
    "\n",
    "n_results = None\n",
    "#############################################################################\n",
    "# TODO: Use the train_net function you completed to train a network         #\n",
    "#############################################################################\n",
    "optimizer =  Adam(model.net, 0.0004995)\n",
    "\n",
    "model.net.load(opt_params)\n",
    "\n",
    "batch_size = 128\n",
    "epochs = 5\n",
    "lr_decay = .999\n",
    "lr_decay_every = 10\n",
    "\n",
    "#############################################################################\n",
    "#                             END OF YOUR CODE                              #\n",
    "#############################################################################\n",
    "n_results = train_net(data_dict, model, loss_f, optimizer, batch_size, epochs, \n",
    "                    lr_decay, lr_decay_every, show_every=100, verbose=True)\n",
    "n_opt_params, n_loss_hist, n_train_acc_hist, n_val_acc_hist = n_results"
   ]
  },
  {
   "cell_type": "markdown",
   "metadata": {},
   "source": [
    "Run the code below to generate the training plots."
   ]
  },
  {
   "cell_type": "code",
   "execution_count": 12,
   "metadata": {},
   "outputs": [
    {
     "data": {
      "image/png": "[encoded data removed]",
      "text/plain": [
       "<Figure size 1080x864 with 2 Axes>"
      ]
     },
     "metadata": {
      "needs_background": "light"
     },
     "output_type": "display_data"
    }
   ],
   "source": [
    "%reload_ext autoreload\n",
    "\n",
    "opt_params, loss_hist, train_acc_hist, val_acc_hist = results\n",
    "\n",
    "# Plot the learning curves\n",
    "plt.subplot(2, 1, 1)\n",
    "plt.title('Training loss')\n",
    "loss_hist_ = loss_hist[1::100]  # sparse the curve a bit\n",
    "plt.plot(loss_hist_, '-o')\n",
    "plt.xlabel('Iteration')\n",
    "\n",
    "plt.subplot(2, 1, 2)\n",
    "plt.title('Accuracy')\n",
    "plt.plot(train_acc_hist, '-o', label='Training')\n",
    "plt.plot(val_acc_hist, '-o', label='Validation')\n",
    "plt.xlabel('Epoch')\n",
    "plt.legend(loc='lower right')\n",
    "plt.gcf().set_size_inches(15, 12)\n",
    "\n",
    "plt.show()"
   ]
  },
  {
   "cell_type": "markdown",
   "metadata": {},
   "source": [
    "### Visualizing Layers [5pts]\n",
    "\n",
    "An interesting finding from early research in convolutional networks was that the learned convolutions resembled filters used for things like edge detection. Complete the code below to visualize the filters in the first convolutional layer of your best model."
   ]
  },
  {
   "cell_type": "code",
   "execution_count": 15,
   "metadata": {},
   "outputs": [
    {
     "data": {
      "image/png": "[encoded data removed]",
      "text/plain": [
       "<Figure size 1152x1152 with 8 Axes>"
      ]
     },
     "metadata": {
      "needs_background": "light"
     },
     "output_type": "display_data"
    }
   ],
   "source": [
    "im_array = None\n",
    "nrows, ncols = None, None\n",
    "\n",
    "###################################################\n",
    "# TODO: read the weights in the convolutional     #\n",
    "# layer and reshape them to a grid of images to   #\n",
    "# view with matplotlib.                           #\n",
    "###################################################\n",
    "filters = model.net.get_params(\"conv1_w\")\n",
    "filters = np.sum(filters, axis=2) * 255\n",
    "filters = filters.astype(np.uint8)\n",
    "filters_shaped = np.moveaxis(filters, -1, 0).tolist()\n",
    "\n",
    "_, axs = plt.subplots(2, 4, figsize = (16, 16))\n",
    "axs = axs.flatten()\n",
    "for img, ax in zip(filters_shaped, axs):\n",
    "    ax.imshow(img)\n",
    "plt.show()\n",
    "###################################################\n",
    "#                END OF YOUR CODE                 #\n",
    "###################################################\n",
    "\n",
    "# plt.imshow(im_array)"
   ]
  },
  {
   "cell_type": "markdown",
   "metadata": {},
   "source": [
    "#### Inline Question: Comment below on what kinds of filters you see. Include your response in your submission [5pts]"
   ]
  },
  {
   "cell_type": "markdown",
   "metadata": {},
   "source": [
    "Consider the darker areas corresponding to background/noise while whiter represents the edges and greyish representing some kind of noise, below is my interpretation of the 8 filters from the 1st convolutional layer (going from left to right, row by row)\n",
    "\n",
    "1. The first filter looks like it is highlighting a slight curve which might correspond to the curved areas of 6, 8, 9 or 0.\n",
    "2. The filter looks like to have captured more noise than the others with a single dot denoted by the white pixel. It can be either a noise or some information captured from the dataset.\n",
    "3. It seems like the L-shaped area is corresponding to a edge of the digit 5\n",
    "4. The bright parts of the filter looks like a small curving edge which might be corresponding to regions in the digit 6.\n",
    "5. The bright vertical pixels seems to be representing a straight vertical line. It might be corresponding to the same in digits - 1, 5, 7, 9.\n",
    "6. The bright horizontal line seems to be corresponding to an horizontal edge. Like the top line of 5. or 7\n",
    "7. The curve looking area seems to be corresponding to a downward curve or a small curve like in the ending of digit 5.\n",
    "8. The kind of C shaped bright pixels looks like edges with a bit of sides coming out of it. Like in the middle part of 5.\n",
    "\n",
    "Note: I have used digits in the explanation to aid the visualization of the reader. It might not correspond to that actual digit."
   ]
  },
  {
   "cell_type": "markdown",
   "metadata": {},
   "source": [
    "# Submission\n",
    "\n",
    "Please prepare a PDF document `problem_2_solution.pdf` in the root directory of this repository with all plots and inline answers of your solution. Concretely, the document should contain the following items in strict order:\n",
    "1. Training loss / accuracy curves for CNN training\n",
    "2. Visualization of convolutional filters\n",
    "3. Answers to inline questions about convolutional filters\n",
    "\n",
    "Note that you still need to submit the jupyter notebook with all generated solutions. We will randomly pick submissions and check that the plots in the PDF and in the notebook are equivalent."
   ]
  }
 ],
 "metadata": {
  "kernelspec": {
   "display_name": "Python 3",
   "language": "python",
   "name": "python3"
  },
  "language_info": {
   "codemirror_mode": {
    "name": "ipython",
    "version": 3
   },
   "file_extension": ".py",
   "mimetype": "text/x-python",
   "name": "python",
   "nbconvert_exporter": "python",
   "pygments_lexer": "ipython3",
   "version": "3.6.15"
  }
 },
 "nbformat": 4,
 "nbformat_minor": 4
}
