{
  "nbformat": 4,
  "nbformat_minor": 0,
  "metadata": {
    "colab": {
      "name": "CS566 Pytorch Tutorial",
      "provenance": [],
      "collapsed_sections": [
        "_l8LFJOtv1KZ",
        "4e9oTYP5z37k",
        "Axrpusg5x8Bn",
        "kcXxXZthmhKZ",
        "O1cdhzSbo9fE",
        "jvCB6umGkxdV",
        "TefaemH1xYdZ",
        "plyExMxmXvAo",
        "ZsaXWn9QV_TB",
        "ObWl67ztx4tG",
        "ygKohzoJkhXz",
        "a3tO7Swwkuju",
        "c_quXlKTTlWD",
        "s4pvULmmRVIa"
      ]
    },
    "kernelspec": {
      "name": "python3",
      "display_name": "Python 3"
    },
    "accelerator": "GPU"
  },
  "cells": [
    {
      "cell_type": "markdown",
      "metadata": {
        "id": "_7wn5ThfwA0B"
      },
      "source": [
        "# **Pytorch Tutorial**\n",
        "(Mostly follows Pytorch Blitz Tutorial by Soumith Chintala: https://pytorch.org/tutorials/beginner/blitz/tensor_tutorial.html)"
      ]
    },
    {
      "cell_type": "markdown",
      "metadata": {
        "id": "-tsFQddguo0_"
      },
      "source": [
        "Before starting, change the Runtime to GPU. ``Menu > Runtime > Change runtime type > GPU``\n",
        "\n"
      ]
    },
    {
      "cell_type": "markdown",
      "metadata": {
        "id": "_l8LFJOtv1KZ"
      },
      "source": [
        "##**Tensors**"
      ]
    },
    {
      "cell_type": "markdown",
      "metadata": {
        "id": "KIj_ZDPuk6fu"
      },
      "source": [
        "Tensors are similar to NumPy’s ndarrays, with the addition being that Tensors can also be used on a GPU to accelerate computing."
      ]
    },
    {
      "cell_type": "markdown",
      "metadata": {
        "id": "3U3zM0CpkYqF"
      },
      "source": [
        "#### Import Libraries"
      ]
    },
    {
      "cell_type": "code",
      "metadata": {
        "id": "q0-1NoqWkbZH"
      },
      "source": [
        "%matplotlib inline\n",
        "import torch\n",
        "import numpy as np"
      ],
      "execution_count": 1,
      "outputs": []
    },
    {
      "cell_type": "markdown",
      "metadata": {
        "id": "TWMfV9mevaUB"
      },
      "source": [
        "#### Construct tensor directly from data. (**torch.tensor**)"
      ]
    },
    {
      "cell_type": "code",
      "metadata": {
        "id": "Uod7FffZu9M1",
        "colab": {
          "base_uri": "https://localhost:8080/"
        },
        "outputId": "7d12c070-21ce-4ea5-a0c4-f6bd191f92f2"
      },
      "source": [
        "x = torch.tensor([5.5, 3])\n",
        "print(x)"
      ],
      "execution_count": 2,
      "outputs": [
        {
          "output_type": "stream",
          "name": "stdout",
          "text": [
            "tensor([5.5000, 3.0000])\n"
          ]
        }
      ]
    },
    {
      "cell_type": "code",
      "metadata": {
        "id": "EjWFJZPNudmG",
        "colab": {
          "base_uri": "https://localhost:8080/"
        },
        "outputId": "2c260ccd-47f0-466f-f421-e93b62fb9f18"
      },
      "source": [
        "y = np.array([[3., 1.], [1.5, 2.5]])\n",
        "z = torch.tensor(y)\n",
        "print(z)"
      ],
      "execution_count": 3,
      "outputs": [
        {
          "output_type": "stream",
          "name": "stdout",
          "text": [
            "tensor([[3.0000, 1.0000],\n",
            "        [1.5000, 2.5000]], dtype=torch.float64)\n"
          ]
        }
      ]
    },
    {
      "cell_type": "markdown",
      "metadata": {
        "id": "Gu7GJVTuwAbv"
      },
      "source": [
        "#### Other ways to create tensors. (**torch.rand, torch.zeros, torch.ones, torch.randn**)"
      ]
    },
    {
      "cell_type": "code",
      "metadata": {
        "id": "RDHB91j4vZPM",
        "colab": {
          "base_uri": "https://localhost:8080/"
        },
        "outputId": "c26dff2a-4551-4766-864d-dca552a4f5d4"
      },
      "source": [
        "x = torch.rand(5, 3)\n",
        "print(x)"
      ],
      "execution_count": 4,
      "outputs": [
        {
          "output_type": "stream",
          "name": "stdout",
          "text": [
            "tensor([[0.0263, 0.1173, 0.3247],\n",
            "        [0.9361, 0.2584, 0.5100],\n",
            "        [0.4420, 0.4507, 0.3839],\n",
            "        [0.8541, 0.5875, 0.0779],\n",
            "        [0.3324, 0.4437, 0.0442]])\n"
          ]
        }
      ]
    },
    {
      "cell_type": "code",
      "metadata": {
        "id": "66l1b20FxUR6",
        "colab": {
          "base_uri": "https://localhost:8080/"
        },
        "outputId": "5cd0bb95-0d0a-4111-be17-45ea07624604"
      },
      "source": [
        "x = torch.zeros(5, 3, dtype=torch.long)\n",
        "print(x)"
      ],
      "execution_count": 5,
      "outputs": [
        {
          "output_type": "stream",
          "name": "stdout",
          "text": [
            "tensor([[0, 0, 0],\n",
            "        [0, 0, 0],\n",
            "        [0, 0, 0],\n",
            "        [0, 0, 0],\n",
            "        [0, 0, 0]])\n"
          ]
        }
      ]
    },
    {
      "cell_type": "code",
      "metadata": {
        "id": "y6-UE503xXoJ",
        "colab": {
          "base_uri": "https://localhost:8080/"
        },
        "outputId": "5f089b73-c791-4553-a996-a21c2dba1cd9"
      },
      "source": [
        "x = torch.ones(5, 3, dtype=torch.float32)\n",
        "print(x)"
      ],
      "execution_count": 6,
      "outputs": [
        {
          "output_type": "stream",
          "name": "stdout",
          "text": [
            "tensor([[1., 1., 1.],\n",
            "        [1., 1., 1.],\n",
            "        [1., 1., 1.],\n",
            "        [1., 1., 1.],\n",
            "        [1., 1., 1.]])\n"
          ]
        }
      ]
    },
    {
      "cell_type": "code",
      "metadata": {
        "id": "IA3lRjOAxZLn",
        "colab": {
          "base_uri": "https://localhost:8080/"
        },
        "outputId": "4590f67b-3651-4cdb-ba25-06c12ec95dad"
      },
      "source": [
        "x = torch.randn(5, 3, dtype=torch.float64)\n",
        "print(x)"
      ],
      "execution_count": 7,
      "outputs": [
        {
          "output_type": "stream",
          "name": "stdout",
          "text": [
            "tensor([[ 0.1359,  1.2255,  0.0099],\n",
            "        [ 0.7085,  0.5375, -0.1357],\n",
            "        [ 0.0110, -1.0421, -0.5249],\n",
            "        [ 0.1140,  1.0507, -0.1843],\n",
            "        [-0.0017, -1.5810, -0.7078]], dtype=torch.float64)\n"
          ]
        }
      ]
    },
    {
      "cell_type": "code",
      "metadata": {
        "id": "ne0xGI7GSu61",
        "colab": {
          "base_uri": "https://localhost:8080/"
        },
        "outputId": "6dde7c50-3109-449f-cff2-4205c24922e3"
      },
      "source": [
        "print(x)\n",
        "print(x.dtype)"
      ],
      "execution_count": 8,
      "outputs": [
        {
          "output_type": "stream",
          "name": "stdout",
          "text": [
            "tensor([[ 0.1359,  1.2255,  0.0099],\n",
            "        [ 0.7085,  0.5375, -0.1357],\n",
            "        [ 0.0110, -1.0421, -0.5249],\n",
            "        [ 0.1140,  1.0507, -0.1843],\n",
            "        [-0.0017, -1.5810, -0.7078]], dtype=torch.float64)\n",
            "torch.float64\n"
          ]
        }
      ]
    },
    {
      "cell_type": "markdown",
      "metadata": {
        "id": "i__GZ29Gz4vV"
      },
      "source": [
        "#### Access properties of tensors (**size(), dtype**)"
      ]
    },
    {
      "cell_type": "code",
      "metadata": {
        "id": "HqGH94sK0NGP",
        "colab": {
          "base_uri": "https://localhost:8080/"
        },
        "outputId": "f38ce46e-b12a-4782-dee9-34a8e4bcfb9c"
      },
      "source": [
        "print(x.size)\n",
        "print(x.shape)"
      ],
      "execution_count": 9,
      "outputs": [
        {
          "output_type": "stream",
          "name": "stdout",
          "text": [
            "<built-in method size of Tensor object at 0x7f981a998590>\n",
            "torch.Size([5, 3])\n"
          ]
        }
      ]
    },
    {
      "cell_type": "markdown",
      "metadata": {
        "id": "4e9oTYP5z37k"
      },
      "source": [
        "#### Tensor Operations (**add, matmul**)"
      ]
    },
    {
      "cell_type": "code",
      "metadata": {
        "id": "wO_vHWDQ0uF3",
        "colab": {
          "base_uri": "https://localhost:8080/"
        },
        "outputId": "96f25605-289f-4db0-bc33-69638d04715b"
      },
      "source": [
        "x = torch.ones([2, 4], dtype=torch.float32)\n",
        "y = torch.rand([2, 4], dtype=torch.float32)\n",
        "print(\"x: \", x)\n",
        "print(\"y: \", y)\n",
        "\n",
        "a = x+y     # Tensor addition\n",
        "b = torch.add(x,y)\n",
        "\n",
        "c = torch.empty([2, 4])\n",
        "torch.add(x, y, out=c)    # Providing output tensor as argument\n",
        "\n",
        "print(\"a: \", a)\n",
        "print(\"b: \", b)\n",
        "print(\"c: \", c)\n",
        "\n",
        "x.add_(y)   # in-place Addition\n",
        "print(\"x: \", x)"
      ],
      "execution_count": 10,
      "outputs": [
        {
          "output_type": "stream",
          "name": "stdout",
          "text": [
            "x:  tensor([[1., 1., 1., 1.],\n",
            "        [1., 1., 1., 1.]])\n",
            "y:  tensor([[0.8075, 0.4142, 0.4502, 0.4154],\n",
            "        [0.7588, 0.6275, 0.8487, 0.5730]])\n",
            "a:  tensor([[1.8075, 1.4142, 1.4502, 1.4154],\n",
            "        [1.7588, 1.6275, 1.8487, 1.5730]])\n",
            "b:  tensor([[1.8075, 1.4142, 1.4502, 1.4154],\n",
            "        [1.7588, 1.6275, 1.8487, 1.5730]])\n",
            "c:  tensor([[1.8075, 1.4142, 1.4502, 1.4154],\n",
            "        [1.7588, 1.6275, 1.8487, 1.5730]])\n",
            "x:  tensor([[1.8075, 1.4142, 1.4502, 1.4154],\n",
            "        [1.7588, 1.6275, 1.8487, 1.5730]])\n"
          ]
        }
      ]
    },
    {
      "cell_type": "code",
      "metadata": {
        "id": "Xcb27rgK5-sz",
        "colab": {
          "base_uri": "https://localhost:8080/"
        },
        "outputId": "09bda6e1-6e8b-4824-d720-74dca406505c"
      },
      "source": [
        "x = torch.tensor(np.array([[1., 2.],\n",
        "                           [1., 2.]]))\n",
        "y = torch.tensor(np.array([[1., 2.],\n",
        "                           [1., 2.]]))\n",
        "print(torch.matmul(x,y))    # Results in matrix multiplication"
      ],
      "execution_count": 11,
      "outputs": [
        {
          "output_type": "stream",
          "name": "stdout",
          "text": [
            "tensor([[3., 6.],\n",
            "        [3., 6.]], dtype=torch.float64)\n"
          ]
        }
      ]
    },
    {
      "cell_type": "code",
      "metadata": {
        "id": "hx0gz2KE6UAn",
        "colab": {
          "base_uri": "https://localhost:8080/"
        },
        "outputId": "fab2d04e-bf43-4a5d-ed18-7e83c80bec26"
      },
      "source": [
        "print(x * y) #element-wise multiplication"
      ],
      "execution_count": 12,
      "outputs": [
        {
          "output_type": "stream",
          "name": "stdout",
          "text": [
            "tensor([[1., 4.],\n",
            "        [1., 4.]], dtype=torch.float64)\n"
          ]
        }
      ]
    },
    {
      "cell_type": "code",
      "source": [
        "print(y@x) #matrix multiplication"
      ],
      "metadata": {
        "id": "C7257tivB2dd",
        "colab": {
          "base_uri": "https://localhost:8080/"
        },
        "outputId": "49a77470-a21d-4131-9ba8-c481e20d490c"
      },
      "execution_count": 13,
      "outputs": [
        {
          "output_type": "stream",
          "name": "stdout",
          "text": [
            "tensor([[3., 6.],\n",
            "        [3., 6.]], dtype=torch.float64)\n"
          ]
        }
      ]
    },
    {
      "cell_type": "markdown",
      "metadata": {
        "id": "2xipZ8Laz4SK"
      },
      "source": [
        "#### Indexing, Reshaping, Numpy"
      ]
    },
    {
      "cell_type": "code",
      "metadata": {
        "id": "Lr-MHUrc73oG"
      },
      "source": [
        "x = torch.rand([5,6])\n",
        "print(x)\n",
        "print(x[:, 1])"
      ],
      "execution_count": null,
      "outputs": []
    },
    {
      "cell_type": "code",
      "metadata": {
        "id": "Jkbqyp448LHS"
      },
      "source": [
        "print(x)\n",
        "y = x.reshape(2, 3, 5)\n",
        "z = x.reshape(-1, 15)  # the size -1 is inferred from other dimensions\n",
        "a = x.view(5, -1) # view can also be used to reshape the array\n",
        "print(y)\n",
        "print(f'shape of y: {y.shape}, shape of z: {z.shape}, shape of a: {a.shape}')"
      ],
      "execution_count": null,
      "outputs": []
    },
    {
      "cell_type": "markdown",
      "metadata": {
        "id": "i_f_DqLb9VW4"
      },
      "source": [
        "For one-element tensors, we can use `.item()` to get its values as a Python number. This is often used while printing/plotting the value of a neural network loss, which would otherwise be a tensor."
      ]
    },
    {
      "cell_type": "code",
      "metadata": {
        "id": "wNlP2Sg89Rps",
        "cellView": "both"
      },
      "source": [
        "x = torch.rand(1)\n",
        "print(x)\n",
        "print(x.item())"
      ],
      "execution_count": null,
      "outputs": []
    },
    {
      "cell_type": "markdown",
      "metadata": {
        "id": "BkI3kSY--4o4"
      },
      "source": [
        "It's easy to convert between Torch Tensor and Numpy array.  \n",
        "Note: They share underlying memory locations on CPU and changing one will change the other."
      ]
    },
    {
      "cell_type": "code",
      "metadata": {
        "id": "Prnqsq1I-4M7"
      },
      "source": [
        "a = torch.ones(5)\n",
        "print(a)\n",
        "b = a.numpy()\n",
        "print(b)"
      ],
      "execution_count": null,
      "outputs": []
    },
    {
      "cell_type": "code",
      "metadata": {
        "id": "rZ0-xjw4_cgb"
      },
      "source": [
        "a.add_(1)   # in-place means the same memory location is updated.\n",
        "print(b)"
      ],
      "execution_count": null,
      "outputs": []
    },
    {
      "cell_type": "code",
      "metadata": {
        "id": "673C8hcn_fL2"
      },
      "source": [
        "a = a + 1   # This creates the tensor 'a' at a new memory location.\n",
        "print(b)\n"
      ],
      "execution_count": null,
      "outputs": []
    },
    {
      "cell_type": "code",
      "source": [
        "print(a)"
      ],
      "metadata": {
        "id": "JAwiPQx-iyDD"
      },
      "execution_count": null,
      "outputs": []
    },
    {
      "cell_type": "code",
      "metadata": {
        "id": "iZKjmBuw__lU"
      },
      "source": [
        "a = np.ones(5)\n",
        "b = torch.tensor(a)     # This creates a tensor which does not share the memory location\n",
        "c = torch.from_numpy(a)   # This is the way to create a tensor using the same memory location as np array\n",
        "np.add(a, 1, out=a)   # Changing the numpy array\n",
        "print(b)\n",
        "print(c)"
      ],
      "execution_count": null,
      "outputs": []
    },
    {
      "cell_type": "markdown",
      "metadata": {
        "id": "Ga4V-SGS70eT"
      },
      "source": [
        "#### CUDA Tensors"
      ]
    },
    {
      "cell_type": "markdown",
      "metadata": {
        "id": "Usu-DtmuzIlO"
      },
      "source": [
        "CUDA is a parallel computing platform and API that enables the use of GPU."
      ]
    },
    {
      "cell_type": "code",
      "metadata": {
        "id": "aZ4itykvAifq"
      },
      "source": [
        "print(torch.cuda.is_available())"
      ],
      "execution_count": null,
      "outputs": []
    },
    {
      "cell_type": "code",
      "metadata": {
        "id": "MdAPsFd0A6Tp"
      },
      "source": [
        "x = torch.rand([2,2])\n",
        "if torch.cuda.is_available():\n",
        "    device = torch.device(\"cuda\")          # a CUDA device object\n",
        "    y = torch.rand([2,2], device=device)  # directly create a tensor on GPU\n",
        "    print(y)\n",
        "\n",
        "    x = x.to(device)    # Useful command to convert tensors to GPU\n",
        "    z = x + y\n",
        "    print(z)\n",
        "    print(z.cpu())    # Convert back to CPU"
      ],
      "execution_count": null,
      "outputs": []
    },
    {
      "cell_type": "markdown",
      "metadata": {
        "id": "t5yJjGFeB4Ge"
      },
      "source": [
        "Let's look at the speedup if we use GPU for complex operations.\n",
        "(Borrowed from: [Edureka YouTube Tutorial](https://www.youtube.com/watch?v=XriwHXfLi6M&ab_channel=edureka%21) )"
      ]
    },
    {
      "cell_type": "code",
      "metadata": {
        "id": "pffcR8CNBjg9"
      },
      "source": [
        "import time\n",
        "\n",
        "d = 5000\n",
        "\n",
        "# Numpy\n",
        "A = np.random.rand(d, d).astype(np.float32)\n",
        "B = np.random.rand(d, d).astype(np.float32)\n",
        "\n",
        "#on the CPU\n",
        "AA = torch.tensor(A)\n",
        "BB = torch.tensor(B)\n",
        "t = time.time()\n",
        "CC = torch.matmul(AA, BB)\n",
        "print(time.time() - t)\n",
        "\n",
        "# Torch with GPU\n",
        "AA = torch.tensor(A).cuda()\n",
        "BB = torch.tensor(B).cuda()\n",
        "t = time.time()\n",
        "CC = torch.matmul(AA, BB)\n",
        "print(time.time() - t)"
      ],
      "execution_count": null,
      "outputs": []
    },
    {
      "cell_type": "markdown",
      "metadata": {
        "id": "mqODRrX_z35C"
      },
      "source": [
        "#### Summary"
      ]
    },
    {
      "cell_type": "markdown",
      "metadata": {
        "id": "YaoIg5ooCVFf"
      },
      "source": [
        "1. **Creating** tensors: torch.tensor, torch.zeros, torch.ones, torch.rand, torch.randn\n",
        "2. **Accessing** properties of tensors: size(), dtype\n",
        "3. Tensor **operations**: add, matmul\n",
        "4. Indexing, Reshaping, interaction with **Numpy**\n",
        "5. Using tensors on **GPU**!\n",
        "\n",
        "Next, how PyTorch uses tensors to enable **automatic differentiation**."
      ]
    },
    {
      "cell_type": "markdown",
      "metadata": {
        "id": "Axrpusg5x8Bn"
      },
      "source": [
        "#### **Exercises**"
      ]
    },
    {
      "cell_type": "markdown",
      "metadata": {
        "id": "JzLTnknF7hGM"
      },
      "source": [
        "(1) You can create uninitialized tensors, whose values are assigned based on whatever the allocated memory stores at that time. Read the documentation and try **torch.empty**"
      ]
    },
    {
      "cell_type": "code",
      "metadata": {
        "id": "YhGJIVXCDAdf"
      },
      "source": [
        ""
      ],
      "execution_count": null,
      "outputs": []
    },
    {
      "cell_type": "markdown",
      "metadata": {
        "id": "GKaYmze0DA7X"
      },
      "source": [
        "(2) You can create tensors based on existing tensors. These methods will reuse properties of the input tensor, e.g. dtype, unless new values are provided by user.  \n",
        "For instance, try:\n",
        "```\n",
        "x = torch.tensor([0, 0], dtype=torch.int32)\n",
        "y = x.new_ones(3, 2)\n",
        "print(y)\n",
        "print(y.dtype)\n",
        "```\n",
        "\n",
        "Read and try the documentation of **new_zeros, new_empty, randn_like** to see what they can do!\n"
      ]
    },
    {
      "cell_type": "code",
      "metadata": {
        "id": "c7eVXRXyDBJY"
      },
      "source": [
        ""
      ],
      "execution_count": null,
      "outputs": []
    },
    {
      "cell_type": "markdown",
      "metadata": {
        "id": "BUsqFIlWDgnB"
      },
      "source": [
        "##**Autograd**"
      ]
    },
    {
      "cell_type": "markdown",
      "metadata": {
        "id": "6Bczt444k2Db"
      },
      "source": [
        "Central to all neural networks in PyTorch is the ``autograd`` package.\n",
        "\n",
        "The ``autograd`` package provides automatic differentiation for all operations\n",
        "on Tensors.\n",
        "\n",
        "(Refer to Slides)\n",
        "\n",
        "----\n",
        "\n",
        "**Computation Graph**  \n",
        "``Tensor`` and ``Function`` are interconnected and build up an acyclic\n",
        "graph, that encodes a complete history of computation. Each tensor has\n",
        "a ``.grad_fn`` attribute that references a ``Function`` that has created\n",
        "the ``Tensor`` (except for Tensors created by the user - their\n",
        "``grad_fn is None``).\n",
        "\n",
        "----\n",
        "\n",
        "\n",
        "If you set a tensor's attribute ``.requires_grad`` as ``True``, it starts to track all operations on it. When you finish your computation you can call ``backward()`` and have all the gradients computed automatically. The gradient for this tensor will be accumulated into ``.grad`` attribute."
      ]
    },
    {
      "cell_type": "code",
      "metadata": {
        "id": "oRmZVwrNcqAf"
      },
      "source": [
        "x = np.array([[1., 1.],\n",
        "              [1., 1.]])\n",
        "x = torch.tensor(x, requires_grad=True)\n",
        "print(x)"
      ],
      "execution_count": null,
      "outputs": []
    },
    {
      "cell_type": "markdown",
      "metadata": {
        "id": "sv5uFA8SdMro"
      },
      "source": [
        "Let's see what happens when we create a new tensor using a function on x."
      ]
    },
    {
      "cell_type": "code",
      "metadata": {
        "id": "fBiXN8sBdDDb"
      },
      "source": [
        "y = x + 2\n",
        "print(y)\n",
        "print(y.grad_fn)"
      ],
      "execution_count": null,
      "outputs": []
    },
    {
      "cell_type": "markdown",
      "metadata": {
        "id": "V8vie9bHdTaU"
      },
      "source": [
        "Each tensor has a ``.grad_fn`` attribute that references a ``Function`` that has created the ``Tensor``.\n",
        "If you want to compute the derivatives, you can call ``.backward()`` on\n",
        "a ``Tensor``."
      ]
    },
    {
      "cell_type": "code",
      "metadata": {
        "id": "13Ybdzn1ecbq"
      },
      "source": [
        "z = y * y * 3\n",
        "out = z.mean()\n",
        "\n",
        "# Clear gradients before calling backward\n",
        "out.backward()\n",
        "print(out)\n",
        "print(x.grad)"
      ],
      "execution_count": null,
      "outputs": []
    },
    {
      "cell_type": "markdown",
      "metadata": {
        "id": "S6jVOJeyDmDw"
      },
      "source": [
        "You should have got a matrix of ``4.5``. Let’s call the ``out``\n",
        "*Tensor* “$o$”.  \n",
        "We have that $o = \\frac{1}{4}\\sum_i z_i$,  \n",
        "$z_i = 3(x_i+2)^2$ and $z_i\\bigr\\rvert_{x_i=1} = 27$.  \n",
        "Therefore,\n",
        "$\\frac{\\partial o}{\\partial x_i} = \\frac{3}{2}(x_i+2)$, hence\n",
        "$\\frac{\\partial o}{\\partial x_i}\\bigr\\rvert_{x_i=1} = \\frac{9}{2} = 4.5$."
      ]
    },
    {
      "cell_type": "markdown",
      "metadata": {
        "id": "kcXxXZthmhKZ"
      },
      "source": [
        "#### **What autograd is actually doing.**\n",
        "\n",
        "(Refer to Slides)\n",
        "\n",
        "Mathematically, if you have a vector valued function $\\vec{y}=f(\\vec{x})$,\n",
        "then the gradient of $\\vec{y}$ with respect to $\\vec{x}$\n",
        "is a Jacobian matrix:\n",
        "\n",
        "\\begin{align}J=\\left(\\begin{array}{ccc}\n",
        "   \\frac{\\partial y_{1}}{\\partial x_{1}} & \\cdots & \\frac{\\partial y_{1}}{\\partial x_{n}}\\\\\n",
        "   \\vdots & \\ddots & \\vdots\\\\\n",
        "   \\frac{\\partial y_{m}}{\\partial x_{1}} & \\cdots & \\frac{\\partial y_{m}}{\\partial x_{n}}\n",
        "   \\end{array}\\right)\\end{align}\n",
        "\n",
        "Generally speaking, ``torch.autograd`` is an engine for computing\n",
        "vector-Jacobian product. That is, **given any vector**\n",
        "$v=\\left(\\begin{array}{cccc} v_{1} & v_{2} & \\cdots & v_{m}\\end{array}\\right)^{T}$,\n",
        "compute the product $v^{T}\\cdot J$.\n",
        "\n",
        "This is useful to realize the chain rule in Neural Network **backpropagation**.\n",
        "\n",
        "---------------------------------------------------\n",
        "\n",
        "#### **Chain Rule in backpropagation**\n",
        "\n",
        "If $v$ happens to be\n",
        "the gradient of a scalar function $l=g\\left(\\vec{y}\\right)$,\n",
        "that is,\n",
        "$v=\\left(\\begin{array}{ccc}\\frac{\\partial l}{\\partial y_{1}} & \\cdots & \\frac{\\partial l}{\\partial y_{m}}\\end{array}\\right)^{T}$,\n",
        "then by the chain rule, the vector-Jacobian product would be the\n",
        "gradient of $l$ with respect to $\\vec{x}$:\n",
        "\n",
        "\\begin{align}J^{T}\\cdot v=\\left(\\begin{array}{ccc}\n",
        "   \\frac{\\partial y_{1}}{\\partial x_{1}} & \\cdots & \\frac{\\partial y_{m}}{\\partial x_{1}}\\\\\n",
        "   \\vdots & \\ddots & \\vdots\\\\\n",
        "   \\frac{\\partial y_{1}}{\\partial x_{n}} & \\cdots & \\frac{\\partial y_{m}}{\\partial x_{n}}\n",
        "   \\end{array}\\right)\\left(\\begin{array}{c}\n",
        "   \\frac{\\partial l}{\\partial y_{1}}\\\\\n",
        "   \\vdots\\\\\n",
        "   \\frac{\\partial l}{\\partial y_{m}}\n",
        "   \\end{array}\\right)=\\left(\\begin{array}{c}\n",
        "   \\frac{\\partial l}{\\partial x_{1}}\\\\\n",
        "   \\vdots\\\\\n",
        "   \\frac{\\partial l}{\\partial x_{n}}\n",
        "   \\end{array}\\right)\\end{align}\n",
        "\n",
        "(Note that $v^{T}\\cdot J$ gives a row vector which can be\n",
        "treated as a column vector by taking $J^{T}\\cdot v$.)\n",
        "\n",
        "This characteristic of vector-Jacobian product makes it very\n",
        "convenient to feed external gradients into a model that has\n",
        "non-scalar output.\n"
      ]
    },
    {
      "cell_type": "code",
      "metadata": {
        "id": "8RbuWVfAoAe5"
      },
      "source": [
        "# backward with vector v\n",
        "x = torch.randn(3, requires_grad=True)\n",
        "y = x * 2\n",
        "y = y * 2\n",
        "\n",
        "v = torch.tensor([0.1, 1.0, 10], dtype=torch.float32)\n",
        "\n",
        "y.backward(v)\n",
        "\n",
        "print(x.grad)"
      ],
      "execution_count": null,
      "outputs": []
    },
    {
      "cell_type": "markdown",
      "metadata": {
        "id": "BX03DSgkoBEs"
      },
      "source": [
        "**Note on backward()**: \n",
        "We don't usually manipulate the gradients directly. Pytorch provides optimizers to take care of it. They update the weights of the neural network."
      ]
    },
    {
      "cell_type": "markdown",
      "metadata": {
        "id": "O1cdhzSbo9fE"
      },
      "source": [
        "#### **Stopping gradients**\n",
        "Sometimes we don't want to compute gradients in some parts of the execution. e.g. during evaluation on test data, we don't need the gradients. We can do this using:\n",
        "\n",
        "``with torch.no_grad()`` or ``.detach()``"
      ]
    },
    {
      "cell_type": "code",
      "metadata": {
        "id": "JZyr8S--pMJ7"
      },
      "source": [
        "print(x.requires_grad)\n",
        "print((x ** 2).requires_grad)\n",
        "\n",
        "with torch.no_grad():\n",
        "\tprint((x ** 2).requires_grad)"
      ],
      "execution_count": null,
      "outputs": []
    },
    {
      "cell_type": "code",
      "metadata": {
        "id": "bgBuXgHopqDX"
      },
      "source": [
        "y = x.detach()    # Creates a tensor that is detached from the computation graph.\n",
        "print(y.requires_grad)"
      ],
      "execution_count": null,
      "outputs": []
    },
    {
      "cell_type": "markdown",
      "metadata": {
        "id": "jvCB6umGkxdV"
      },
      "source": [
        "##**Neural Networks**"
      ]
    },
    {
      "cell_type": "markdown",
      "metadata": {
        "id": "jrUNLDuJs6dB"
      },
      "source": [
        "Neural networks can be constructed using the ``torch.nn`` package.\n",
        "\n",
        "A neural network is defined by an ``nn.Module``.\n",
        "A module contains a set of neural layers and their weights. A method ``forward(input)`` defines a function $f(x)$ that returns the ``output``.\n",
        "\n",
        "----------------------\n",
        "\n",
        "\n",
        "A typical **training procedure** for a neural network is as follows:\n",
        "\n",
        "- **Define** the neural network that has some learnable parameters (or\n",
        "  weights)\n",
        "- Iterate over a **dataset** of inputs\n",
        "- **Forward pass**: Process input through the network\n",
        "- Compute the **loss** (how far is the output from being correct)\n",
        "- **Backward pass**: Propagate gradients back into the network’s parameters\n",
        "- **Update** the weights of the network, typically using a simple update rule:\n",
        "  ``weight = weight - learning_rate * gradient``"
      ]
    },
    {
      "cell_type": "markdown",
      "metadata": {
        "id": "TefaemH1xYdZ"
      },
      "source": [
        "#### Models\n",
        "\n",
        "Layers defined in a module will be automatically added to the computation graph.\n",
        "\n",
        "1. Your custom module should inherit from `nn.Module`.  \n",
        "2. `super().__init__()` should be added in your `__init__()` method. Define your neural network layers here.  \n",
        "3. You need to implement your own `forward()` function which describes the forward pass. `backward` is automatically defined for you using `autograd`."
      ]
    },
    {
      "cell_type": "code",
      "metadata": {
        "id": "ncIr_de7wtfG"
      },
      "source": [
        "import torch\n",
        "import torch.nn as nn\n",
        "import torch.nn.functional as F\n",
        "\n",
        "# Define a 2-layer MLP\n",
        "class MLP(nn.Module):\n",
        "  def __init__(self, input_dim=20, hidden_dim=32, output_dim=15):\n",
        "      super().__init__()\n",
        "\n",
        "      self.linear_1 = nn.Linear(input_dim, hidden_dim, bias=True)\n",
        "      self.relu = nn.ReLU()\n",
        "      self.linear_2 = nn.Linear(hidden_dim, output_dim, bias=True)\n",
        "    \n",
        "  def forward(self, input):\n",
        "    # Define forward pass (input -> linear module -> relu -> linear module -> output)\n",
        "      # [10, 20]\n",
        "      x = self.linear_1(input) # [10, 32]\n",
        "      x = self.relu(x)  # [10, 32]\n",
        "      x = self.linear_2(x)  # [10, 15]\n",
        "      return x\n"
      ],
      "execution_count": null,
      "outputs": []
    },
    {
      "cell_type": "markdown",
      "metadata": {
        "id": "QQbSeF33VL_1"
      },
      "source": [
        "Inputs should always be in the form of mini-batches. Single samples are not supported. The first dimension corresponds to the mini-batch dimension. You can use ``input.unsqueeze(0)`` to add a fake batch dimension to the first axis."
      ]
    },
    {
      "cell_type": "code",
      "metadata": {
        "id": "SbuGsk9rSknw"
      },
      "source": [
        "x = torch.randn(5)\n",
        "print(x.size(), x.unsqueeze(0).size())"
      ],
      "execution_count": null,
      "outputs": []
    },
    {
      "cell_type": "markdown",
      "metadata": {
        "id": "q5_flgG1SysQ"
      },
      "source": [
        "Next, let's create an instance of the neural network."
      ]
    },
    {
      "cell_type": "code",
      "metadata": {
        "id": "nIg3zVKax4Gi"
      },
      "source": [
        "# Defining parameters, model, input\n",
        "in_dim = 20\n",
        "out_dim = 15\n",
        "hidden_dim = 32\n",
        "batch_size = 10\n",
        "\n",
        "model = MLP(in_dim, hidden_dim, out_dim)\n",
        "\n",
        "input = torch.randn(batch_size, in_dim)"
      ],
      "execution_count": null,
      "outputs": []
    },
    {
      "cell_type": "markdown",
      "metadata": {
        "id": "55gpiRQej0-u"
      },
      "source": [
        "Calling a neural network module with its input ``model(input)`` directly calls the forward function."
      ]
    },
    {
      "cell_type": "code",
      "metadata": {
        "id": "ydJ2eJngYbFZ"
      },
      "source": [
        "output = model(input)   # This calls the forward function. Same as model.forward(input)\n",
        "\n",
        "print(model)\n",
        "print(output.size())\n",
        "print(output)"
      ],
      "execution_count": null,
      "outputs": []
    },
    {
      "cell_type": "code",
      "metadata": {
        "id": "LEf1zifkTlbi"
      },
      "source": [
        "params = list(model.parameters())\n",
        "print(len(params))\n",
        "print(params[0].size(), params[1].size(), params[2].size(), params[3].size())   # Access parameters using the list\n",
        "print(model.linear_1.weight.size(), model.linear_1.bias.size())    # Access parameters using module name\n",
        "print(model.linear_1.bias)"
      ],
      "execution_count": null,
      "outputs": []
    },
    {
      "cell_type": "markdown",
      "metadata": {
        "id": "plyExMxmXvAo"
      },
      "source": [
        "#### Backward pass\n",
        "To backpropagate the gradients, we use the ``backward()`` function.\n",
        "You need to clear the existing gradients though, else gradients will be\n",
        "accumulated to existing gradients."
      ]
    },
    {
      "cell_type": "code",
      "metadata": {
        "id": "1RGzKZJnUPfB"
      },
      "source": [
        "# Perform backward pass with a vector v\n",
        "model.zero_grad()\n",
        "print(model.linear_1.bias.grad)\n",
        "v = torch.randn(batch_size, out_dim)\n",
        "\n",
        "output.backward(v)\n",
        "print(model.linear_1.bias.grad)"
      ],
      "execution_count": null,
      "outputs": []
    },
    {
      "cell_type": "markdown",
      "metadata": {
        "id": "VpYJPiGWVohF"
      },
      "source": [
        "\n",
        "Before seeing how neural networks work with a loss function, let's recap the classes we've seen so far.\n",
        "\n",
        "**Recap:**\n",
        "  -  ``torch.Tensor`` - A *multi-dimensional array* with support for autograd\n",
        "     operations like ``backward()``. Also *holds the gradient* w.r.t. the\n",
        "     tensor.\n",
        "  -  ``nn.Module`` - Neural network module. *Convenient way of\n",
        "     encapsulating parameters*, with helpers for moving them to GPU,\n",
        "     exporting, loading, etc.\n",
        "  -  ``nn.Parameter`` - A kind of Tensor, that is *automatically\n",
        "     registered as a parameter when assigned as an attribute to a*\n",
        "     ``Module``.\n",
        "  -  ``autograd.Function`` - Implements *forward and backward definitions\n",
        "     of an autograd operation*. Every ``Tensor`` operation creates at\n",
        "     least a single ``Function`` node that connects to functions that\n",
        "     created a ``Tensor`` and *encodes its history*.\n",
        "     This can be accessed using ``grad_fn``.\n",
        "    \n",
        "----\n",
        "\n",
        "**At this point, we have covered:**\n",
        "  -  Defining a neural network\n",
        "  -  Processing inputs and calling backward\n",
        "\n",
        "**Still Left:**\n",
        "  -  Computing the loss\n",
        "  -  Updating the weights of the network"
      ]
    },
    {
      "cell_type": "markdown",
      "metadata": {
        "id": "ZsaXWn9QV_TB"
      },
      "source": [
        "#### Loss Function\n",
        "\n",
        "A loss function takes the (output, target) pair of inputs, and computes a\n",
        "value that estimates how far away the output is from the target.\n",
        "\n",
        "There are several different\n",
        "`loss functions <https://pytorch.org/docs/nn.html#loss-functions>`_ under the\n",
        "nn package .\n",
        "A simple loss is: ``nn.MSELoss`` which computes the mean-squared error\n",
        "between the input and the target. For example:"
      ]
    },
    {
      "cell_type": "code",
      "metadata": {
        "id": "6rAQv6p4UbDq"
      },
      "source": [
        "# Compute loss\n",
        "output = model(input) # Forward\n",
        "target = torch.randn(batch_size, out_dim)  # a dummy target, for example\n",
        "criterion = nn.MSELoss()  # loss function\n",
        "\n",
        "loss = criterion(output, target)  # compute the loss\n",
        "print(loss)"
      ],
      "execution_count": null,
      "outputs": []
    },
    {
      "cell_type": "markdown",
      "metadata": {
        "id": "1UvYJtZWWk1S"
      },
      "source": [
        "When we call loss.backward(), the whole graph is differentiated w.r.t. the loss, and all Tensors in the graph that have ``requires_grad=True`` will have their ``.grad`` Tensor accumulated with the gradient.\n",
        "\n",
        "For illustration, let us follow a **few steps backward**:"
      ]
    },
    {
      "cell_type": "code",
      "metadata": {
        "id": "3W-nO54hWqJn"
      },
      "source": [
        "print(loss.grad_fn)\n",
        "print(loss.grad_fn.next_functions[0][0])  # Linear Layer"
      ],
      "execution_count": null,
      "outputs": []
    },
    {
      "cell_type": "markdown",
      "metadata": {
        "id": "woT8xFe_XMFl"
      },
      "source": [
        "To **backpropagate** the error using the loss function, all we have to do is to ``loss.backward()``.\n",
        "You need to clear the existing gradients though, else gradients will be\n",
        "accumulated to existing gradients."
      ]
    },
    {
      "cell_type": "code",
      "metadata": {
        "id": "lMdqdeCWXSp1"
      },
      "source": [
        "# Loss backpropagation\n",
        "model.zero_grad()   # Because each tensor may already contain some gradients, which we do not want to be accumulated\n",
        "print(model.linear_1.bias.grad)\n",
        "\n",
        "loss.backward()\n",
        "print(model.linear_1.bias.grad)"
      ],
      "execution_count": null,
      "outputs": []
    },
    {
      "cell_type": "markdown",
      "metadata": {
        "id": "ObWl67ztx4tG"
      },
      "source": [
        "#### Update the weights\n",
        "\n",
        "Now the computed gradients can be used to perform a step of gradient descent to update the weights.\n",
        "\n",
        "The simplest update rule used in practice is the Stochastic Gradient\n",
        "Descent (SGD):\n",
        "\n",
        "     weight = weight - learning_rate * gradient"
      ]
    },
    {
      "cell_type": "code",
      "metadata": {
        "id": "NrLPi93DZH-8"
      },
      "source": [
        "# Update weights using accumulated gradients\n",
        "learning_rate = 0.01\n",
        "\n",
        "print(model.linear_1.bias[0])\n",
        "print(model.linear_1.bias.grad[0])\n",
        "\n",
        "for f in model.parameters():\n",
        "    f.detach().sub_(learning_rate * f.grad)\n",
        "\n",
        "print(model.linear_1.bias[0])"
      ],
      "execution_count": null,
      "outputs": []
    },
    {
      "cell_type": "markdown",
      "metadata": {
        "id": "DJAt0sbBZ-PJ"
      },
      "source": [
        "**Optimizers**\n",
        "\n",
        "As you use neural networks, you want to use various different update rules such as SGD, Nesterov-SGD, Adam, RMSProp, etc.  \n",
        "``torch.optim`` implements all these methods. Using it is very simple:"
      ]
    },
    {
      "cell_type": "code",
      "metadata": {
        "id": "ZFR5zijeaJBM"
      },
      "source": [
        "import torch.optim as optim\n",
        "\n",
        "# create your optimizer\n",
        "optimizer = optim.SGD(model.parameters(), lr=0.01)"
      ],
      "execution_count": null,
      "outputs": []
    },
    {
      "cell_type": "code",
      "metadata": {
        "id": "tDUcZUqAafgW"
      },
      "source": [
        "# Using optimizer in your training loop\n",
        "optimizer.zero_grad()\n",
        "output = model(input)\n",
        "\n",
        "loss = criterion(output, target)\n",
        "\n",
        "loss.backward()\n",
        "\n",
        "print(model.linear_1.bias[0])\n",
        "optimizer.step()  # Does the update\n",
        "print(model.linear_1.bias[0])"
      ],
      "execution_count": null,
      "outputs": []
    },
    {
      "cell_type": "markdown",
      "metadata": {
        "id": "ygKohzoJkhXz"
      },
      "source": [
        "##**Training Image Classifier**"
      ]
    },
    {
      "cell_type": "markdown",
      "metadata": {
        "id": "a3tO7Swwkuju"
      },
      "source": [
        "#### **Data**\n",
        "\n",
        "Generally, when you have to deal with image, text, audio or video data,\n",
        "you can use standard python packages that load data into a numpy array.\n",
        "Then you can convert this array into a ``torch.*Tensor``.\n",
        "\n",
        "-  For images, packages such as Pillow, OpenCV are useful\n",
        "-  For audio, packages such as scipy and librosa\n",
        "-  For text, either raw Python or Cython based loading, or NLTK and\n",
        "   SpaCy are useful\n",
        "   \n",
        "Specifically for vision, we can use a package called\n",
        "``torchvision``, that has data loaders for common datasets such as\n",
        "Imagenet, CIFAR10, MNIST, etc. and data transformers for images. These can be accessed using ``torchvision.datasets`` and ``torch.utils.data.DataLoader``.\n",
        "\n",
        "This provides a huge convenience and avoids writing boilerplate code.\n",
        "\n",
        "-----\n",
        "**CIFAR10**\n",
        "\n",
        "For this tutorial, we will use the CIFAR10 dataset.\n",
        "It has the classes: ‘airplane’, ‘automobile’, ‘bird’, ‘cat’, ‘deer’,\n",
        "‘dog’, ‘frog’, ‘horse’, ‘ship’, ‘truck’. The images in CIFAR-10 are of\n",
        "size 3x32x32, i.e. 3-channel color images of 32x32 pixels in size.\n",
        "\n",
        "https://pytorch.org/tutorials/_images/cifar10.png\n",
        "\n",
        "-----\n",
        "\n",
        "**Training an image classifier**\n",
        "\n",
        "We will do the following steps in order:\n",
        "\n",
        "1. Load and normalizing the CIFAR10 training and test datasets using\n",
        "   ``torchvision``\n",
        "2. Define a Convolutional Neural Network\n",
        "3. Define a loss function\n",
        "4. Train the network on the training data\n",
        "5. Test the network on the test data\n",
        "\n",
        "----\n",
        "\n",
        "**1. Loading and normalizing CIFAR10**\n",
        "\n",
        "Using ``torchvision``, it’s extremely easy to load CIFAR10.\n",
        "\n"
      ]
    },
    {
      "cell_type": "code",
      "metadata": {
        "id": "uQs_7W1YlBd7"
      },
      "source": [
        "import torch\n",
        "import torchvision\n",
        "import torchvision.transforms as transforms"
      ],
      "execution_count": null,
      "outputs": []
    },
    {
      "cell_type": "markdown",
      "metadata": {
        "id": "pmNEKrqgm_08"
      },
      "source": [
        "The output of torchvision datasets are PILImage images of range [0, 1].\n",
        "We **transform** them to Tensors of normalized range [-1, 1].\n",
        "\n"
      ]
    },
    {
      "cell_type": "code",
      "metadata": {
        "id": "yFyUlpWGnK-k"
      },
      "source": [
        "transform = transforms.Compose(\n",
        "    [transforms.ToTensor(),\n",
        "     transforms.Normalize((0.5, 0.5, 0.5), (0.5, 0.5, 0.5))])\n",
        "\n",
        "trainset = torchvision.datasets.CIFAR10(root='./data', train=True,\n",
        "                                        download=True, transform=transform)\n",
        "\n",
        "\n",
        "testset = torchvision.datasets.CIFAR10(root='./data', train=False,\n",
        "                                       download=True, transform=transform)\n",
        "\n",
        "\n",
        "classes = ('plane', 'car', 'bird', 'cat',\n",
        "           'deer', 'dog', 'frog', 'horse', 'ship', 'truck')"
      ],
      "execution_count": null,
      "outputs": []
    },
    {
      "cell_type": "markdown",
      "metadata": {
        "id": "c_quXlKTTlWD"
      },
      "source": [
        "#### Dataloader\n",
        "Combines a dataset and a sampler, and provides an iterable over the given dataset."
      ]
    },
    {
      "cell_type": "code",
      "metadata": {
        "id": "FzCRvvafTX7i"
      },
      "source": [
        "trainloader = torch.utils.data.DataLoader(trainset, batch_size=80,\n",
        "                                          shuffle=True, num_workers=2)\n",
        "testloader = torch.utils.data.DataLoader(testset, batch_size=80,\n",
        "                                         shuffle=False, num_workers=2)"
      ],
      "execution_count": null,
      "outputs": []
    },
    {
      "cell_type": "markdown",
      "metadata": {
        "id": "7vmuEPphnQtl"
      },
      "source": [
        "Let us show some of the training images, for fun."
      ]
    },
    {
      "cell_type": "code",
      "metadata": {
        "id": "FHioLUfDnTsv"
      },
      "source": [
        "import matplotlib.pyplot as plt\n",
        "import numpy as np\n",
        "\n",
        "# functions to show an image\n",
        "def imshow(img):\n",
        "    img = img / 2 + 0.5     # unnormalize\n",
        "    npimg = img.numpy()\n",
        "    plt.imshow(np.transpose(npimg, (1, 2, 0)))\n",
        "    plt.show()\n",
        "\n",
        "\n",
        "# get some random training images\n",
        "dataiter = iter(trainloader)\n",
        "images, labels = dataiter.next()\n",
        "\n",
        "print(images.size())\n",
        "\n",
        "# show images\n",
        "imshow(torchvision.utils.make_grid(images))\n",
        "# print labels\n",
        "print(' '.join('%5s' % classes[labels[j]] for j in range(4)))"
      ],
      "execution_count": null,
      "outputs": []
    },
    {
      "cell_type": "markdown",
      "metadata": {
        "id": "5iDlwL2gnUdD"
      },
      "source": [
        "**2. Define a Convolutional Neural Network**  \n",
        "https://pytorch.org/tutorials/_images/mnist.png"
      ]
    },
    {
      "cell_type": "code",
      "metadata": {
        "id": "RlJrCpi_nXKk"
      },
      "source": [
        "import torch.nn as nn\n",
        "import torch.nn.functional as F\n",
        "\n",
        "class Net(nn.Module):\n",
        "    def __init__(self):\n",
        "      super().__init__()\n",
        "      self.conv1 = nn.Conv2d(in_channels=3, out_channels=6, kernel_size=5) #stride=1, padding=0\n",
        "      self.pool1 = nn.MaxPool2d(kernel_size=2, stride=2)\n",
        "      self.conv2 = nn.Conv2d(in_channels=6, out_channels=16, kernel_size=5)\n",
        "      # pool\n",
        "      self.fc1 = nn.Linear(16 * 5 * 5, 120)\n",
        "      self.fc2 = nn.Linear(120, 84)\n",
        "      self.fc3 = nn.Linear(84, 10)\n",
        "\n",
        "    def forward(self, x):\n",
        "      # (b, 3, 32, 32)\n",
        "      x = self.conv1(x) # => (b, 6, 28, 28)\n",
        "      x = F.relu(x)\n",
        "      x = self.pool1(x) # => (b, 6, 14, 14)\n",
        "\n",
        "      x = self.pool1(F.relu(self.conv2(x))) # => (b, 16, 10, 10) => (b, 16, 5, 5)\n",
        "\n",
        "      x = x.view(-1, 16 * 5 * 5) # => [b, 16 * 5 * 5]\n",
        "\n",
        "      x = F.relu(self.fc1(x))\n",
        "      x = F.relu(self.fc2(x))\n",
        "\n",
        "      x = self.fc3(x)\n",
        "      return x\n",
        "\n",
        "net = Net()\n",
        "net.cpu()"
      ],
      "execution_count": null,
      "outputs": []
    },
    {
      "cell_type": "markdown",
      "metadata": {
        "id": "h6dM0tBxVuHe"
      },
      "source": [
        "What is the CNN doing?\n",
        "Add interrupts or print commands to check."
      ]
    },
    {
      "cell_type": "code",
      "metadata": {
        "id": "5G2eNh69VtQ3"
      },
      "source": [
        "dataiter = iter(trainloader)\n",
        "images, labels = dataiter.next()\n",
        "print(net(images).shape)   # Investigate the forward function"
      ],
      "execution_count": null,
      "outputs": []
    },
    {
      "cell_type": "markdown",
      "metadata": {
        "id": "Ss8l2cJNnZ2S"
      },
      "source": [
        "**3. Define a Loss function and optimizer**\n",
        "\n",
        "Let's use a Classification Cross-Entropy loss and SGD with momentum.\n",
        "\n"
      ]
    },
    {
      "cell_type": "code",
      "metadata": {
        "id": "fcIaDQHLnbsa"
      },
      "source": [
        "# Define loss and optimizer\n",
        "import torch.optim as optim\n",
        "\n",
        "criterion = nn.CrossEntropyLoss()\n",
        "\n",
        "optimizer = optim.SGD(net.parameters(), lr=0.001, momentum=0.9)"
      ],
      "execution_count": null,
      "outputs": []
    },
    {
      "cell_type": "markdown",
      "metadata": {
        "id": "zTDiE0oDndUI"
      },
      "source": [
        "**4. Train the network**\n",
        "\n",
        "This is when things start to get interesting.\n",
        "We simply have to loop over our data iterator, and feed the inputs to the\n",
        "network and optimize.\n",
        "\n"
      ]
    },
    {
      "cell_type": "code",
      "metadata": {
        "id": "YzNWKasQnebV"
      },
      "source": [
        "# Training loop\n",
        "\n",
        "\n",
        "import time\n",
        "t = time.time()\n",
        "\n",
        "for epoch in range(2):\n",
        "\n",
        "  running_loss = 0.0\n",
        "  for i, data in enumerate(trainloader):\n",
        "    # access data\n",
        "    inputs, labels = data\n",
        "\n",
        "    optimizer.zero_grad()\n",
        "    # forward\n",
        "    outputs = net(inputs)\n",
        "     \n",
        "    # loss\n",
        "    loss = criterion(outputs, labels)\n",
        "\n",
        "    # backward\n",
        "    loss.backward()\n",
        "\n",
        "    # update the weights\n",
        "    optimizer.step()\n",
        "\n",
        "    # print statistics\n",
        "    running_loss += loss.item()\n",
        "    if i % 100 == 99:  # printing every 2000 mini-batches/iterations\n",
        "      print('[%d, %5d] loss: %.3f' %\n",
        "                  (epoch + 1, i + 1, running_loss / 100))\n",
        "      running_loss = 0.0\n",
        "\n",
        "\n",
        "print(time.time() - t)"
      ],
      "execution_count": null,
      "outputs": []
    },
    {
      "cell_type": "markdown",
      "metadata": {
        "id": "q-NflT4HngTk"
      },
      "source": [
        "Let's quickly **save** our trained model:"
      ]
    },
    {
      "cell_type": "code",
      "metadata": {
        "id": "SIpkbMvenizi"
      },
      "source": [
        "PATH = './cifar_net.pth'\n",
        "torch.save(net.state_dict(), PATH)"
      ],
      "execution_count": null,
      "outputs": []
    },
    {
      "cell_type": "markdown",
      "metadata": {
        "id": "L5DCEN9FnkmW"
      },
      "source": [
        "**5. Test the network on the test data**\n",
        "\n",
        "\n",
        "We have trained the network for 2 passes over the training dataset.\n",
        "But we need to check if the network has learnt anything at all.\n",
        "\n",
        "We will check this by predicting the class label that the neural network\n",
        "outputs, and checking it against the ground-truth. If the prediction is\n",
        "correct, we add the sample to the list of correct predictions.\n",
        "\n",
        "Okay, first step. Let us display an image from the test set to get familiar."
      ]
    },
    {
      "cell_type": "code",
      "metadata": {
        "id": "NV8ADOgonng_"
      },
      "source": [
        "# Check the ground truth images\n",
        "dataiter = iter(testloader)\n",
        "images, labels = dataiter.next()\n",
        "\n",
        "imshow(torchvision.utils.make_grid(images))\n",
        "print('GroundTruth: ', ' '.join('%5s' % classes[labels[j]] for j in range(4)))"
      ],
      "execution_count": null,
      "outputs": []
    },
    {
      "cell_type": "markdown",
      "metadata": {
        "id": "UMLJsu3qpwf2"
      },
      "source": [
        "**Load** your trained model."
      ]
    },
    {
      "cell_type": "code",
      "metadata": {
        "id": "7NfamWZNnqGO"
      },
      "source": [
        "net = Net()\n",
        "net.load_state_dict(torch.load(PATH))"
      ],
      "execution_count": null,
      "outputs": []
    },
    {
      "cell_type": "markdown",
      "metadata": {
        "id": "QYgSQdL-8H7R"
      },
      "source": [
        "Compute outputs on test data."
      ]
    },
    {
      "cell_type": "code",
      "metadata": {
        "id": "yRa4yNEnnrRJ"
      },
      "source": [
        "# Compute output\n",
        "outputs = net(images)\n",
        "print(outputs)\n",
        "print(outputs.shape)"
      ],
      "execution_count": null,
      "outputs": []
    },
    {
      "cell_type": "code",
      "metadata": {
        "id": "PFM7X04DntbS"
      },
      "source": [
        "max_val, predicted = torch.max(outputs, 1)    # torch.max returns the maximum value as well as the index\n",
        "print(max_val, predicted)\n",
        "\n",
        "# Print the predicted classes\n",
        "print('Predicted: ', ' '.join('%5s' % classes[predicted[j]]\n",
        "                              for j in range(4)))"
      ],
      "execution_count": null,
      "outputs": []
    },
    {
      "cell_type": "markdown",
      "metadata": {
        "id": "LcZN7_Xz8Y5Y"
      },
      "source": [
        "Compute accuracy on the entire test set."
      ]
    },
    {
      "cell_type": "code",
      "metadata": {
        "id": "bfcCyLe4nu8q"
      },
      "source": [
        "# Loop over the test set and compute accuracy\n",
        "correct = 0\n",
        "total = 0\n",
        "net.cuda()\n",
        "\n",
        "with torch.no_grad():\n",
        "    for data in testloader:\n",
        "        images, labels = data[0].cuda(), data[1].cuda()\n",
        "\n",
        "        outputs = net(images.cuda())\n",
        "\n",
        "        max_val, predicted = torch.max(outputs.cuda(), 1)\n",
        "\n",
        "        total += labels.size(0)\n",
        "        correct += (predicted == labels).sum().item()\n",
        "\n",
        "print('Accuracy: ', 100 * correct / total)"
      ],
      "execution_count": null,
      "outputs": []
    },
    {
      "cell_type": "markdown",
      "metadata": {
        "id": "ZZplrCLzn2pm"
      },
      "source": [
        "**Training on GPU**\n",
        "\n",
        "Just like how you transfer a Tensor onto the GPU, you transfer the neural\n",
        "net onto the GPU.\n",
        "\n",
        "Let's first define our device as the first visible cuda device if we have\n",
        "CUDA available:\n",
        "\n"
      ]
    },
    {
      "cell_type": "code",
      "metadata": {
        "id": "a8_Mp9i7n1Td"
      },
      "source": [
        "device = torch.device(\"cuda:0\" if torch.cuda.is_available() else \"cpu\")\n",
        "\n",
        "# Assuming that we are on a CUDA machine, this should print a CUDA device:\n",
        "\n",
        "print(device)"
      ],
      "execution_count": null,
      "outputs": []
    },
    {
      "cell_type": "markdown",
      "metadata": {
        "id": "up2CdVsmrRaA"
      },
      "source": [
        "Let's go back and make the necessary changes.\n",
        "\n",
        "1. ``net.cuda()``\n",
        "\n",
        "2. ``inputs, labels = data[0].cuda(), data[1].cuda()``"
      ]
    },
    {
      "cell_type": "code",
      "source": [
        "# Define loss and optimizer\n",
        "import torch.optim as optim\n",
        "\n",
        "net.cuda() # <---------------------------------------- Put the model on the GPU\n",
        "criterion = nn.CrossEntropyLoss()\n",
        "\n",
        "optimizer = optim.SGD(net.parameters(), lr=0.001, momentum=0.9)\n",
        "\n",
        "# Training loop\n",
        "import time\n",
        "t = time.time()\n",
        "\n",
        "\n",
        "for epoch in range(2):\n",
        "\n",
        "  running_loss = 0.0\n",
        "  for i, data in enumerate(trainloader):\n",
        "    # access data\n",
        "    inputs, labels = data[0].cuda(), data[1].cuda() #<--------------------- put the inputs/labels on the gpu\n",
        "\n",
        "    optimizer.zero_grad()\n",
        "    # forward\n",
        "    outputs = net(inputs)\n",
        "     \n",
        "    # loss\n",
        "    loss = criterion(outputs, labels)\n",
        "\n",
        "    # backward\n",
        "    loss.backward()\n",
        "\n",
        "    # update the weights\n",
        "    optimizer.step()\n",
        "\n",
        "    # print statistics\n",
        "    running_loss += loss.item()\n",
        "    if i % 100 == 99:  # printing every 2000 mini-batches/iterations\n",
        "      print('[%d, %5d] loss: %.3f' %\n",
        "                  (epoch + 1, i + 1, running_loss / 100))\n",
        "      running_loss = 0.0\n",
        "\n",
        "\n",
        "print(time.time() - t)"
      ],
      "metadata": {
        "id": "sCjiRT4oOHP6"
      },
      "execution_count": null,
      "outputs": []
    },
    {
      "cell_type": "markdown",
      "metadata": {
        "id": "s4pvULmmRVIa"
      },
      "source": [
        "#### Exercises\n",
        "\n",
        "What are the classes that performed well, and the classes that did\n",
        "not perform well?\n",
        "Calculate per class accuracy of your model by iterating with the testloader."
      ]
    },
    {
      "cell_type": "code",
      "metadata": {
        "id": "DfEFcaaJnwa4"
      },
      "source": [
        "# Compute per-class accuracy of the model\n",
        "class_correct = list(0. for i in range(10))\n",
        "class_total = list(0. for i in range(10))\n",
        "with torch.no_grad():\n",
        "    for data in testloader:\n",
        "        images, labels = data[0].cuda(), data[1].cuda()\n",
        "        outputs = net(images)\n",
        "        _, predicted = torch.max(outputs, 1)\n",
        "        c = (predicted == labels).squeeze()\n",
        "        for i in range(4):    # assumes batch size of 4\n",
        "            label = labels[i]\n",
        "            class_correct[label] += c[i].item()\n",
        "            class_total[label] += 1\n",
        "\n",
        "for i in range(10):\n",
        "    print('Accuracy of %5s : %2d %%' % (\n",
        "        classes[i], 100 * class_correct[i] / class_total[i]))"
      ],
      "execution_count": null,
      "outputs": []
    }
  ]
}